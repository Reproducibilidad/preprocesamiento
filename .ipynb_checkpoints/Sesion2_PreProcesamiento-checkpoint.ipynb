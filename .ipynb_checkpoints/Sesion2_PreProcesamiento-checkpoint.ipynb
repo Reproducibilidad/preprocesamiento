{
 "cells": [
  {
   "cell_type": "markdown",
   "metadata": {},
   "source": [
    "<center> <h1>Herramientas Informáticas<br></br>para la Investigación Interdisciplinaria</h1> </center>\n",
    "\n",
    "<br></br>\n",
    "\n",
    "* Profesor:  <a href=\"http://www.pucp.edu.pe/profesor/jose-manuel-magallanes/\" target=\"_blank\">Dr. José Manuel Magallanes, PhD</a> ([jmagallanes@pucp.edu.pe](mailto:jmagallanes@pucp.edu.pe))<br>\n",
    "    * Profesor del **Departamento de Ciencias Sociales, Pontificia Universidad Católica del Peru**.\n",
    "    * Senior Data Scientist del **eScience Institute** and Visiting Professor at **Evans School of Public Policy and Governance, University of Washington**.\n",
    "    * Fellow Catalyst, **Berkeley Initiative for Transparency in Social Sciences, UC Berkeley**.\n",
    "    * Research Associate, **Center for Social Complexity, George Mason University**.\n",
    "\n",
    "\n",
    "<a id='beginning'></a>\n",
    "\n",
    "## Sesión 3: Pre Procesamiento de Datos\n",
    "\n",
    "Vamos a realizar dos procesos en esta etapa de pre-procesamiento:\n",
    "\n",
    "* [Limpieza](#limpieza)\n",
    "* [Formato](#formato)\n",
    "\n",
    "Cuando hablamos de limpieza nos referiremos a verificar que la data haya sido leída adecuadamente, y que no estén presentes caracteres extraños que \"desorienten\" a los cálculos posteriores. Cuando hablamos de formato, nos referimos a que los datos limpios representen adecuadamente los valores o estructuras que el tratamiento metodológico posterior requiere.\n",
    "\n",
    "Como ves, usamos Jupyter, pues nos permite ver *lo que está pasando* con los datos, de mejor manera de lo que ofrece RStudio."
   ]
  },
  {
   "cell_type": "markdown",
   "metadata": {},
   "source": [
    "<a id='limpieza'></a>\n",
    "## Parte A: Limpieza de Data"
   ]
  },
  {
   "cell_type": "markdown",
   "metadata": {},
   "source": [
    "El pre procesamiento de datos es la parte más tediosa del proceso de investigación.\n",
    "\n",
    "Esta primera parte delata diversos problemas que se tienen con los datos reales que están en la web, como la que vemos a continuación:"
   ]
  },
  {
   "cell_type": "code",
   "execution_count": null,
   "metadata": {
    "scrolled": true
   },
   "outputs": [],
   "source": [
    "import IPython\n",
    "linkIndexes=\"https://en.wikipedia.org/wiki/List_of_freedom_indices\" \n",
    "weblinkIndexes = '<iframe src=' + linkIndexes + ' width=700 height=350></iframe>'\n",
    "IPython.display.HTML(weblinkIndexes)"
   ]
  },
  {
   "cell_type": "markdown",
   "metadata": {},
   "source": [
    "Recuerda inspeccionar la tabla para encontrar algun atributo que sirva para su descarga. De ahí, continúa."
   ]
  },
  {
   "cell_type": "markdown",
   "metadata": {},
   "source": [
    "Para trabajar con tablas, necesitaremos la ayuda de **Pandas**. Verifica qué versión de Pandas tienes:"
   ]
  },
  {
   "cell_type": "code",
   "execution_count": null,
   "metadata": {},
   "outputs": [],
   "source": [
    "# si obtienes error es por que no lo has instalado\n",
    "import pandas as pd\n",
    "pd.__version__"
   ]
  },
  {
   "cell_type": "markdown",
   "metadata": {},
   "source": [
    "Si la versión es 23, continúa, sino, actualizalo."
   ]
  },
  {
   "cell_type": "code",
   "execution_count": null,
   "metadata": {},
   "outputs": [],
   "source": [
    "# antes instala'beautifulsoup4'\n",
    "# es posible que necesites salir y volver a cargar notebook\n",
    "\n",
    "wikiTables=pd.read_html(linkIndexes,\n",
    "                        header=0,#titulos están en primera fila: Python cuenta desde '0'\n",
    "                        flavor='bs4', #socio para rescatar texto de html\n",
    "                        attrs={'class': 'wikitable sortable'})#atributo buscado"
   ]
  },
  {
   "cell_type": "markdown",
   "metadata": {},
   "source": [
    "La función *read_html* ha traido las **wikitablas** que hay en esa página de Wikipedia. Veamos cuantas tablas hay:"
   ]
  },
  {
   "cell_type": "code",
   "execution_count": null,
   "metadata": {},
   "outputs": [],
   "source": [
    "# cuantas tablas tenemos?\n",
    "len(wikiTables)"
   ]
  },
  {
   "cell_type": "markdown",
   "metadata": {},
   "source": [
    "Es importante saber qué estructura se ha utilizado para almacenar las tablas traidas, aunque sólo haya sido una:"
   ]
  },
  {
   "cell_type": "code",
   "execution_count": null,
   "metadata": {},
   "outputs": [],
   "source": [
    "# las tenemos en:\n",
    "type(wikiTables)"
   ]
  },
  {
   "cell_type": "markdown",
   "metadata": {},
   "source": [
    "Entonces, nuestro tabla (o *dataframe*)  será el primer elemento de esa lista:"
   ]
  },
  {
   "cell_type": "code",
   "execution_count": null,
   "metadata": {},
   "outputs": [],
   "source": [
    "type(wikiTables[0])"
   ]
  },
  {
   "cell_type": "markdown",
   "metadata": {},
   "source": [
    "De ahi que, para tener la tabla:"
   ]
  },
  {
   "cell_type": "code",
   "execution_count": null,
   "metadata": {},
   "outputs": [],
   "source": [
    "DF=wikiTables[0] \n",
    "\n",
    "#primera mirada\n",
    "DF.head()"
   ]
  },
  {
   "cell_type": "markdown",
   "metadata": {},
   "source": [
    "La limpieza requiere estrategia. Lo primero que salta a la vista, son los _footnotes_ que están en los títulos:"
   ]
  },
  {
   "cell_type": "code",
   "execution_count": null,
   "metadata": {},
   "outputs": [],
   "source": [
    "DF.columns"
   ]
  },
  {
   "cell_type": "markdown",
   "metadata": {},
   "source": [
    "Podrias intentar poner nombres nuevos y alterar los anteriores, pero pensemos en una estrategia donde tendrías muchas columnas. En ese caso, es mejor eliminar los errores sin importar cuantas columnas hay:"
   ]
  },
  {
   "cell_type": "code",
   "execution_count": null,
   "metadata": {},
   "outputs": [],
   "source": [
    "import re  # debe estar instalado.\n",
    "\n",
    "# encuentra uno o más espacios: \\\\s+\n",
    "# encuentra uno o mas numeros \\\\d+\n",
    "# encuentra un bracket que abre \\\\[\n",
    "# encuentra un bracket que cierra \\\\]\n",
    "\n",
    "pattern='\\\\s+|\\\\d+|\\\\[|\\\\]' # cuando alguno de estos aparezca\n",
    "replacer=''                  # reemplazalo por esto"
   ]
  },
  {
   "cell_type": "markdown",
   "metadata": {},
   "source": [
    "Ya tengo nuevos titulos de columna (headers). Ahora creo nuevos nombres:"
   ]
  },
  {
   "cell_type": "code",
   "execution_count": null,
   "metadata": {},
   "outputs": [],
   "source": [
    "newHeaders=[re.sub(pattern,replacer,element) for element in DF.columns]"
   ]
  },
  {
   "cell_type": "markdown",
   "metadata": {},
   "source": [
    "Preparemos los cambios. Hay que preparar los *matches* entre lo antiguo y lo nuevo. Usemos el comando *zip*:"
   ]
  },
  {
   "cell_type": "code",
   "execution_count": null,
   "metadata": {},
   "outputs": [],
   "source": [
    "list(zip(DF.columns,newHeaders))"
   ]
  },
  {
   "cell_type": "code",
   "execution_count": null,
   "metadata": {},
   "outputs": [],
   "source": [
    "# tenemos que crear un 'diccionario' usando la anterior:\n",
    "\n",
    "{old:new for old,new in zip(DF.columns,newHeaders)}"
   ]
  },
  {
   "cell_type": "markdown",
   "metadata": {},
   "source": [
    "El *dict* tiene lo que necesito. Eso lo uso en la función *rename* de Pandas:"
   ]
  },
  {
   "cell_type": "code",
   "execution_count": null,
   "metadata": {},
   "outputs": [],
   "source": [
    "changeMatch={old:new for old,new in zip(DF.columns,newHeaders)}\n",
    "DF.rename(columns=changeMatch,inplace=True)"
   ]
  },
  {
   "cell_type": "code",
   "execution_count": null,
   "metadata": {},
   "outputs": [],
   "source": [
    "# ahora tenemos:\n",
    "DF.head()"
   ]
  },
  {
   "cell_type": "markdown",
   "metadata": {},
   "source": [
    "Los contenidos de las celdas son texto, veamos si todas se han escrito de la manera correcta:"
   ]
  },
  {
   "cell_type": "code",
   "execution_count": null,
   "metadata": {},
   "outputs": [],
   "source": [
    "DF.FreedomintheWorld.value_counts()"
   ]
  },
  {
   "cell_type": "code",
   "execution_count": null,
   "metadata": {},
   "outputs": [],
   "source": [
    "DF.IndexofEconomicFreedom.value_counts()"
   ]
  },
  {
   "cell_type": "code",
   "execution_count": null,
   "metadata": {},
   "outputs": [],
   "source": [
    "DF.PressFreedomIndex.value_counts()"
   ]
  },
  {
   "cell_type": "code",
   "execution_count": null,
   "metadata": {},
   "outputs": [],
   "source": [
    "DF.DemocracyIndex.value_counts()"
   ]
  },
  {
   "cell_type": "markdown",
   "metadata": {},
   "source": [
    "No hay problema con los contenidos."
   ]
  },
  {
   "cell_type": "markdown",
   "metadata": {},
   "source": [
    "[Ir a inicio](#beginning)\n",
    "____\n",
    "\n",
    "<a id='formato'></a>\n",
    "## Parte B: Formateando Valores en Python"
   ]
  },
  {
   "cell_type": "markdown",
   "metadata": {},
   "source": [
    "### Las escalas de medición\n",
    "\n",
    "Para saber si están en la escala correcta, debemos usar _dtypes_:"
   ]
  },
  {
   "cell_type": "code",
   "execution_count": null,
   "metadata": {},
   "outputs": [],
   "source": [
    "DF.dtypes"
   ]
  },
  {
   "cell_type": "markdown",
   "metadata": {},
   "source": [
    "Los cuatro indices son categorías, no texto (_object_). Hagamos la conversión:"
   ]
  },
  {
   "cell_type": "code",
   "execution_count": null,
   "metadata": {},
   "outputs": [],
   "source": [
    "headers=DF.columns # guardando los nombres de todas las columnas\n",
    "\n",
    "# cambiar desde la segunda columna en adelante '[1:]':\n",
    "DF[headers[1:]]=DF[headers[1:]].astype('category')"
   ]
  },
  {
   "cell_type": "code",
   "execution_count": null,
   "metadata": {},
   "outputs": [],
   "source": [
    "# obtenemos:\n",
    "DF.dtypes"
   ]
  },
  {
   "cell_type": "markdown",
   "metadata": {},
   "source": [
    "Este cambio es imperceptible a la vista:"
   ]
  },
  {
   "cell_type": "code",
   "execution_count": null,
   "metadata": {},
   "outputs": [],
   "source": [
    "DF.head()"
   ]
  },
  {
   "cell_type": "markdown",
   "metadata": {},
   "source": [
    "Mientras no sean variables categóricas no podemos utilizar las funciones que tiene Pandas para esas variables. Por ejemplo, pidamos los modalidades:"
   ]
  },
  {
   "cell_type": "code",
   "execution_count": null,
   "metadata": {},
   "outputs": [],
   "source": [
    "DF.FreedomintheWorld.cat.categories"
   ]
  },
  {
   "cell_type": "code",
   "execution_count": null,
   "metadata": {},
   "outputs": [],
   "source": [
    "DF.IndexofEconomicFreedom.cat.categories"
   ]
  },
  {
   "cell_type": "code",
   "execution_count": null,
   "metadata": {},
   "outputs": [],
   "source": [
    "DF.PressFreedomIndex.cat.categories"
   ]
  },
  {
   "cell_type": "code",
   "execution_count": null,
   "metadata": {},
   "outputs": [],
   "source": [
    "DF.DemocracyIndex.cat.categories"
   ]
  },
  {
   "cell_type": "markdown",
   "metadata": {},
   "source": [
    "Vemos que tenemos hasta 5 niveles en 2 variables, y 3 y 4 niveles en otras. De ahi que lo prudente es encontrar la distribución común de valores que refleja la ordinalidad, y los máximos y mínimos. Veamos los pasos iniciales:"
   ]
  },
  {
   "cell_type": "code",
   "execution_count": null,
   "metadata": {},
   "outputs": [],
   "source": [
    "#guardando en una lista las modalidades de la variable Freedom in the world:\n",
    "oldWorld=list(DF.FreedomintheWorld.cat.categories)\n",
    "# que es:\n",
    "oldWorld"
   ]
  },
  {
   "cell_type": "code",
   "execution_count": null,
   "metadata": {},
   "outputs": [],
   "source": [
    "# usando palabras que representen la ordinalidad, \n",
    "# pero que puedan ser usadas en las otras variables\n",
    "# DEBEN crearse en el mismo orden que 'oldWorld'\n",
    "newWorld=['very good','very bad','middle']"
   ]
  },
  {
   "cell_type": "code",
   "execution_count": null,
   "metadata": {},
   "outputs": [],
   "source": [
    "# cambiar match entre lo antiguo por lo nuevo:\n",
    "recodeWorld={old:new for old,new in zip (oldWorld,newWorld)}\n",
    "recodeWorld"
   ]
  },
  {
   "cell_type": "markdown",
   "metadata": {},
   "source": [
    "Con el dict *recodeWorld* puedo renombrar luego las categorías. \n",
    "\n",
    "Preparemos ahora los dicts para las otras variables:"
   ]
  },
  {
   "cell_type": "code",
   "execution_count": null,
   "metadata": {},
   "outputs": [],
   "source": [
    "oldEco=list(DF.IndexofEconomicFreedom.cat.categories)\n",
    "newEco=['very good','middle','good','bad','very bad']\n",
    "recodeEco={old:new for old,new in zip (oldEco,newEco)}\n",
    "\n",
    "oldPress=list(DF.PressFreedomIndex.cat.categories)\n",
    "newPress=['bad','very good','middle','good','very bad']\n",
    "recodePress={old:new for old,new in zip (oldPress,newPress)}\n",
    "\n",
    "oldDemo=list(DF.DemocracyIndex.cat.categories)\n",
    "newDemo=['very bad','good','very good','bad']\n",
    "recodeDemo={old:new for old,new in zip (oldDemo,newDemo)}"
   ]
  },
  {
   "cell_type": "markdown",
   "metadata": {},
   "source": [
    "Ahora usamos los dicts creados para recodificar:"
   ]
  },
  {
   "cell_type": "code",
   "execution_count": null,
   "metadata": {},
   "outputs": [],
   "source": [
    "DF.FreedomintheWorld.cat.rename_categories(recodeWorld,inplace=True)\n",
    "\n",
    "DF.IndexofEconomicFreedom.cat.rename_categories(recodeEco,inplace=True)\n",
    "\n",
    "DF.PressFreedomIndex.cat.rename_categories(recodePress,inplace=True)\n",
    "\n",
    "DF.DemocracyIndex.cat.rename_categories(recodeDemo,inplace=True)"
   ]
  },
  {
   "cell_type": "markdown",
   "metadata": {},
   "source": [
    "Veamos como quedó:"
   ]
  },
  {
   "cell_type": "code",
   "execution_count": null,
   "metadata": {},
   "outputs": [],
   "source": [
    "DF.head()"
   ]
  },
  {
   "cell_type": "markdown",
   "metadata": {},
   "source": [
    "Los datos aun no son ordinales, pero aqui serán:"
   ]
  },
  {
   "cell_type": "code",
   "execution_count": null,
   "metadata": {},
   "outputs": [],
   "source": [
    "# creemos la secuencia:\n",
    "from pandas.api.types import CategoricalDtype\n",
    "\n",
    "sequence=['very good','good','middle','bad','very bad']\n",
    "ordinal = CategoricalDtype(categories=sequence,\n",
    "                           ordered=True)\n",
    "\n",
    "#aquí está la secuencia pero con propiedades \n",
    "ordinal"
   ]
  },
  {
   "cell_type": "code",
   "execution_count": null,
   "metadata": {},
   "outputs": [],
   "source": [
    "# apliquemos la secuencia con sus propiedades a la data:\n",
    "\n",
    "DF[headers[1:]]=DF[headers[1:]].astype(ordinal)"
   ]
  },
  {
   "cell_type": "code",
   "execution_count": null,
   "metadata": {},
   "outputs": [],
   "source": [
    "# asi va:\n",
    "DF.head()"
   ]
  },
  {
   "cell_type": "markdown",
   "metadata": {},
   "source": [
    "Notemos que las modalidades no usadas están presentes:"
   ]
  },
  {
   "cell_type": "code",
   "execution_count": null,
   "metadata": {},
   "outputs": [],
   "source": [
    "DF.FreedomintheWorld.value_counts(sort=False,dropna=False)"
   ]
  },
  {
   "cell_type": "markdown",
   "metadata": {},
   "source": [
    "Verificaciones adicionales:"
   ]
  },
  {
   "cell_type": "code",
   "execution_count": null,
   "metadata": {},
   "outputs": [],
   "source": [
    "#las categorias:\n",
    "DF.PressFreedomIndex.cat.categories"
   ]
  },
  {
   "cell_type": "code",
   "execution_count": null,
   "metadata": {},
   "outputs": [],
   "source": [
    "#tipo de escala?\n",
    "DF.PressFreedomIndex.cat.ordered"
   ]
  },
  {
   "cell_type": "markdown",
   "metadata": {},
   "source": [
    "[Ir a inicio](#beginning)\n",
    "____\n",
    "<a id='monotony'></a>\n",
    "\n",
    "### Cambio de Monotonía:\n",
    "\n",
    "Verifiquemos si está bien la asignación que hemos hecho:"
   ]
  },
  {
   "cell_type": "code",
   "execution_count": null,
   "metadata": {},
   "outputs": [],
   "source": [
    "DF.PressFreedomIndex.head()"
   ]
  },
  {
   "cell_type": "code",
   "execution_count": null,
   "metadata": {},
   "outputs": [],
   "source": [
    "DF.PressFreedomIndex.max()"
   ]
  },
  {
   "cell_type": "markdown",
   "metadata": {},
   "source": [
    "Este es un caso donde quiza la intensidad creciente debe ser hacia el sentido positivo del concepto. Claro que pudimos hacerlo al inicio, pero aprovechemos para saber cómo se hace.\n",
    "\n",
    "Para ello crearé una función:"
   ]
  },
  {
   "cell_type": "code",
   "execution_count": null,
   "metadata": {},
   "outputs": [],
   "source": [
    "# la función recibe una columna:\n",
    "def changeMonotony(aColumn):\n",
    "\n",
    "    # Invierto las categorias de la columna:\n",
    "    newOrder= aColumn.cat.categories[::-1]  # [::-1]  reverses the list.\n",
    "    \n",
    "    # se retorna columa con modalidades reordenadas:\n",
    "    return aColumn.cat.reorder_categories(newOrder,ordered=True)"
   ]
  },
  {
   "cell_type": "markdown",
   "metadata": {},
   "source": [
    "Esta función la aplica de nuevo, columna por columna:"
   ]
  },
  {
   "cell_type": "code",
   "execution_count": null,
   "metadata": {},
   "outputs": [],
   "source": [
    "DF[headers[1:]]=DF[headers[1:]].apply(changeMonotony)"
   ]
  },
  {
   "cell_type": "markdown",
   "metadata": {},
   "source": [
    "¿Funcionó?"
   ]
  },
  {
   "cell_type": "code",
   "execution_count": null,
   "metadata": {},
   "outputs": [],
   "source": [
    "DF.PressFreedomIndex.head()"
   ]
  },
  {
   "cell_type": "code",
   "execution_count": null,
   "metadata": {},
   "outputs": [],
   "source": [
    "DF.PressFreedomIndex.max()"
   ]
  },
  {
   "cell_type": "markdown",
   "metadata": {},
   "source": [
    "Tenemos aun valores perdidos, por lo que podríamos convertirlos las categorías en números para realizar alguno calculos para una imputación simple:"
   ]
  },
  {
   "cell_type": "code",
   "execution_count": null,
   "metadata": {},
   "outputs": [],
   "source": [
    "oldlevels=['very bad','bad','middle','good','very good']\n",
    "newlevels=[1,2,3,4,5]\n",
    "recodeMatch={old:new for old,new in zip (oldlevels,newlevels)}"
   ]
  },
  {
   "cell_type": "code",
   "execution_count": null,
   "metadata": {},
   "outputs": [],
   "source": [
    "renamer=lambda column: column.cat.rename_categories(recodeMatch)\n",
    "DF[headers[1:]]=DF[headers[1:]].apply(renamer)\n",
    "DF.head(10)"
   ]
  },
  {
   "cell_type": "markdown",
   "metadata": {},
   "source": [
    "La función para reemplazarlos es sencilla, pero hay que evitar facilismos. Veamos:"
   ]
  },
  {
   "cell_type": "code",
   "execution_count": null,
   "metadata": {},
   "outputs": [],
   "source": [
    "#recordar:\n",
    "DF.dtypes"
   ]
  },
  {
   "cell_type": "code",
   "execution_count": null,
   "metadata": {},
   "outputs": [],
   "source": [
    "#tienen que ser numericos:\n",
    "DF[headers[1:]]=DF[headers[1:]].astype(dtype='float',errors='ignore')"
   ]
  },
  {
   "cell_type": "code",
   "execution_count": null,
   "metadata": {},
   "outputs": [],
   "source": [
    "# ahora:\n",
    "DF.dtypes"
   ]
  },
  {
   "cell_type": "code",
   "execution_count": null,
   "metadata": {},
   "outputs": [],
   "source": [
    "DF.head(10)"
   ]
  },
  {
   "cell_type": "markdown",
   "metadata": {},
   "source": [
    "Veamos qué variables tienen menos valores perdidos:"
   ]
  },
  {
   "cell_type": "code",
   "execution_count": null,
   "metadata": {},
   "outputs": [],
   "source": [
    "# sumo los perdidos en cada una:\n",
    "DF.isnull().sum() "
   ]
  },
  {
   "cell_type": "markdown",
   "metadata": {},
   "source": [
    "Como la *FreedomintheWorld* es quien tiene menos perdidos, debo calcular la mediana de cada variable, segun el nivel de *FreedomintheWorld*:"
   ]
  },
  {
   "cell_type": "code",
   "execution_count": null,
   "metadata": {},
   "outputs": [],
   "source": [
    "#mediana por grupos: \n",
    "DF.groupby(headers[1])[headers[2:]].median()"
   ]
  },
  {
   "cell_type": "markdown",
   "metadata": {},
   "source": [
    "Lo que veo tiene sentido, entonces lo lógico sería que la mediana de cada uno de estos subgrupos reemplace a los perdidos de cada subgrupo. Osea:"
   ]
  },
  {
   "cell_type": "code",
   "execution_count": null,
   "metadata": {},
   "outputs": [],
   "source": [
    "# mas facil:\n",
    "for col in headers[2:]:\n",
    "    DF[col].fillna(DF.groupby([\"FreedomintheWorld\"])[col].transform(\"median\"), inplace=True)"
   ]
  },
  {
   "cell_type": "markdown",
   "metadata": {},
   "source": [
    "Obteniendo:"
   ]
  },
  {
   "cell_type": "code",
   "execution_count": null,
   "metadata": {},
   "outputs": [],
   "source": [
    "DF.head(10)"
   ]
  },
  {
   "cell_type": "markdown",
   "metadata": {},
   "source": [
    "Si pensamos trabajar en R, recordemos que si grabamos un archivo en CSV, no podremos pasarle al R etiquetas. En todo caso, podríamos tener un grupo de columnas que funcionen como etiquetas. Creemos una copia:"
   ]
  },
  {
   "cell_type": "code",
   "execution_count": null,
   "metadata": {},
   "outputs": [],
   "source": [
    "DF2=DF.copy()"
   ]
  },
  {
   "cell_type": "markdown",
   "metadata": {},
   "source": [
    "En esa copia ponemos las etiquetas, por lo que primero convertimos los numeros a categoría:"
   ]
  },
  {
   "cell_type": "code",
   "execution_count": null,
   "metadata": {},
   "outputs": [],
   "source": [
    "DF2[headers[1:]]=DF2[headers[1:]].astype('category') # podemos poder ordinal, pero se perdería la info"
   ]
  },
  {
   "cell_type": "markdown",
   "metadata": {},
   "source": [
    "Aun no veremos mayor cambio, pero estos ya son ordinales:"
   ]
  },
  {
   "cell_type": "code",
   "execution_count": null,
   "metadata": {},
   "outputs": [],
   "source": [
    "DF2.head()"
   ]
  },
  {
   "cell_type": "markdown",
   "metadata": {},
   "source": [
    "Aquí las recodificamos:"
   ]
  },
  {
   "cell_type": "code",
   "execution_count": null,
   "metadata": {},
   "outputs": [],
   "source": [
    "# mapa de recodificacion\n",
    "newlevels2=['1 very bad','2 bad','3 middle','4 good','5 very good']\n",
    "oldlevels2=[1,2,3,4,5]\n",
    "recodeMatch2={old:new for old,new in zip (oldlevels2,newlevels2)}"
   ]
  },
  {
   "cell_type": "code",
   "execution_count": null,
   "metadata": {},
   "outputs": [],
   "source": [
    "# aplicando función de recodificacion\n",
    "renamer=lambda column: column.cat.rename_categories(recodeMatch2)\n",
    "DF2[headers[1:]]=DF2[headers[1:]].apply(renamer)\n",
    "DF2.head(10)"
   ]
  },
  {
   "cell_type": "markdown",
   "metadata": {},
   "source": [
    "Podríamos poner titulares más sencillo a esta data:"
   ]
  },
  {
   "cell_type": "code",
   "execution_count": null,
   "metadata": {},
   "outputs": [],
   "source": [
    "DF2.columns=[\"Country\",\"WorldFreedom\",\"EconomicFreedom\",\"PressFreedom\",\"Democracy\"]"
   ]
  },
  {
   "cell_type": "markdown",
   "metadata": {},
   "source": [
    "Ahora concatenamos lo creado al original:"
   ]
  },
  {
   "cell_type": "code",
   "execution_count": null,
   "metadata": {},
   "outputs": [],
   "source": [
    "frames=[DF,DF2.iloc[:,1:]]\n",
    "DF=pd.concat(frames,axis=1)"
   ]
  },
  {
   "cell_type": "markdown",
   "metadata": {},
   "source": [
    "Podríamos añadir una variable de tipo numérico a nuestros datos:"
   ]
  },
  {
   "cell_type": "code",
   "execution_count": null,
   "metadata": {},
   "outputs": [],
   "source": [
    "gdpLink=\"https://en.wikipedia.org/wiki/List_of_countries_by_GDP_(PPP)_per_capita\"\n",
    "gdpTables=pd.read_html(gdpLink,header=0,\n",
    "                        flavor='bs4',\n",
    "                        attrs={'class': 'wikitable sortable'})\n",
    "# cuantas tenemos:\n",
    "len(gdpTables)"
   ]
  },
  {
   "cell_type": "code",
   "execution_count": null,
   "metadata": {},
   "outputs": [],
   "source": [
    "# selecciones la tercera:\n",
    "gdpTables[2].head()"
   ]
  },
  {
   "cell_type": "code",
   "execution_count": null,
   "metadata": {},
   "outputs": [],
   "source": [
    "# quedemosnos con la segunda y tercera fila\n",
    "DFgdp=gdpTables[2].iloc[:,1:3]"
   ]
  },
  {
   "cell_type": "code",
   "execution_count": null,
   "metadata": {},
   "outputs": [],
   "source": [
    "# confirmemos que los tipos son adecuados:\n",
    "DFgdp.dtypes"
   ]
  },
  {
   "cell_type": "code",
   "execution_count": null,
   "metadata": {},
   "outputs": [],
   "source": [
    "# cambiemos esos nombres:\n",
    "DFgdp.columns=[\"Country\",\"gdp\"]\n",
    "DFgdp.head()"
   ]
  },
  {
   "cell_type": "code",
   "execution_count": null,
   "metadata": {},
   "outputs": [],
   "source": [
    "#comparemos tamaños:\n",
    "\n",
    "DF.shape, DFgdp.shape"
   ]
  },
  {
   "cell_type": "code",
   "execution_count": null,
   "metadata": {},
   "outputs": [],
   "source": [
    "# consultemos que saldrá al hacer el merge:\n",
    "\n",
    "DFgdp.merge(DF,on=\"Country\").shape"
   ]
  },
  {
   "cell_type": "code",
   "execution_count": null,
   "metadata": {},
   "outputs": [],
   "source": [
    "DFtotal=DFgdp.merge(DF,on=\"Country\")"
   ]
  },
  {
   "cell_type": "code",
   "execution_count": null,
   "metadata": {},
   "outputs": [],
   "source": [
    "# como quedó:\n",
    "\n",
    "DFtotal.head()"
   ]
  },
  {
   "cell_type": "code",
   "execution_count": null,
   "metadata": {},
   "outputs": [],
   "source": [
    "# quedemonos con las filas con datos completos, ya no imputemos:\n",
    "\n",
    "DFtotal.dropna(inplace=True)"
   ]
  },
  {
   "cell_type": "markdown",
   "metadata": {},
   "source": [
    "**Guardando archivo**\n",
    "\n",
    "A esta altura es bueno guardar el archivo, pues ya está listo:"
   ]
  },
  {
   "cell_type": "code",
   "execution_count": null,
   "metadata": {},
   "outputs": [],
   "source": [
    "#DFtotal.to_csv(\"indexes.csv\",index=None)"
   ]
  },
  {
   "cell_type": "markdown",
   "metadata": {},
   "source": [
    "____\n",
    "\n",
    "* [Ir a inicio](#beginning)\n",
    "* [Menú Principal](https://reproducibilidad.github.io/TallerChile/)"
   ]
  },
  {
   "cell_type": "markdown",
   "metadata": {},
   "source": [
    "_____\n",
    "\n",
    "**AUSPICIO**: \n",
    "\n",
    "El desarrollo de estos contenidos ha sido posible gracias al grant del Berkeley Initiative for Transparency in the Social Sciences (BITSS) at the Center for Effective Global Action (CEGA) at the University of California, Berkeley\n",
    "\n",
    "\n",
    "<center>\n",
    "<img src=\"https://github.com/MAGALLANESJoseManuel/BITSS_ToolsWorkshop/raw/master/LogoBitss.jpg\" style=\"width: 300px;\"/>\n",
    "</center>\n",
    "\n",
    "**RECONOCIMIENTO**\n",
    "\n",
    "<!--\n",
    "EL Dr. Magallanes agradece a la Pontificia Universidad Católica del Perú, por su apoyo en la elaboración de este trabajo.\n",
    "\n",
    "<center>\n",
    "<img src=\"https://github.com/MAGALLANESJoseManuel/BITSS_ToolsWorkshop/raw/master/LogoPUCP.jpg\" style=\"width: 200px;\"/>\n",
    "</center>\n",
    "-->\n",
    "\n",
    "El autor reconoce el apoyo que el eScience Institute de la Universidad de Washington le ha brindado desde el 2015 para desarrollar su investigación en Ciencia de Datos.\n",
    "\n",
    "<center>\n",
    "<img src=\"https://github.com/MAGALLANESJoseManuel/BITSS_ToolsWorkshop/raw/master/LogoES.png\" style=\"width: 300px;\"/>\n",
    "</center>\n",
    "\n",
    "<br>\n",
    "<br>"
   ]
  }
 ],
 "metadata": {
  "anaconda-cloud": {},
  "kernelspec": {
   "display_name": "Python 3",
   "language": "python",
   "name": "python3"
  },
  "language_info": {
   "codemirror_mode": {
    "name": "ipython",
    "version": 3
   },
   "file_extension": ".py",
   "mimetype": "text/x-python",
   "name": "python",
   "nbconvert_exporter": "python",
   "pygments_lexer": "ipython3",
   "version": "3.6.5"
  }
 },
 "nbformat": 4,
 "nbformat_minor": 1
}
