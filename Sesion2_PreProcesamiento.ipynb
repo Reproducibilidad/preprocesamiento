{
 "cells": [
  {
   "cell_type": "markdown",
   "metadata": {},
   "source": [
    "<center> <h1>Herramientas Informáticas<br></br>para la Investigación Interdisciplinaria</h1> </center>\n",
    "\n",
    "<br></br>\n",
    "\n",
    "* Profesor:  <a href=\"http://www.pucp.edu.pe/profesor/jose-manuel-magallanes/\" target=\"_blank\">Dr. José Manuel Magallanes, PhD</a> ([jmagallanes@pucp.edu.pe](mailto:jmagallanes@pucp.edu.pe))<br>\n",
    "    * Profesor del **Departamento de Ciencias Sociales, Pontificia Universidad Católica del Peru**.\n",
    "    * Senior Data Scientist del **eScience Institute** and Visiting Professor at **Evans School of Public Policy and Governance, University of Washington**.\n",
    "    * Fellow Catalyst, **Berkeley Initiative for Transparency in Social Sciences, UC Berkeley**.\n",
    "    * Research Associate, **Center for Social Complexity, George Mason University**.\n",
    "\n",
    "\n",
    "<a id='beginning'></a>\n",
    "\n",
    "## Sesión 3: Pre Procesamiento de Datos\n",
    "\n",
    "Vamos a realizar dos procesos en esta etapa de pre-procesamiento:\n",
    "\n",
    "* [Limpieza](#limpieza)\n",
    "* [Formato](#formato)\n",
    "\n",
    "Cuando hablamos de limpieza nos referiremos a verificar que la data haya sido leída adecuadamente, y que no estén presentes caracteres extraños que \"desorienten\" a los cálculos posteriores. Cuando hablamos de formato, nos referimos a que los datos limpios representen adecuadamente los valores o estructuras que el tratamiento metodológico posterior requiere.\n",
    "\n",
    "Como ves, usamos Jupyter, pues nos permite ver *lo que está pasando* con los datos, de mejor manera de lo que ofrece RStudio."
   ]
  },
  {
   "cell_type": "markdown",
   "metadata": {},
   "source": [
    "<a id='limpieza'></a>\n",
    "## Parte A: Limpieza de Data"
   ]
  },
  {
   "cell_type": "markdown",
   "metadata": {},
   "source": [
    "El pre procesamiento de datos es la parte más tediosa del proceso de investigación.\n",
    "\n",
    "Esta primera parte delata diversos problemas que se tienen con los datos reales que están en la web, como la que vemos a continuación:"
   ]
  },
  {
   "cell_type": "code",
   "execution_count": 1,
   "metadata": {
    "scrolled": true
   },
   "outputs": [
    {
     "data": {
      "text/html": [
       "<iframe src=https://en.wikipedia.org/wiki/List_of_freedom_indices width=700 height=350></iframe>"
      ],
      "text/plain": [
       "<IPython.core.display.HTML object>"
      ]
     },
     "execution_count": 1,
     "metadata": {},
     "output_type": "execute_result"
    }
   ],
   "source": [
    "import IPython\n",
    "linkIndexes=\"https://en.wikipedia.org/wiki/List_of_freedom_indices\" \n",
    "weblinkIndexes = '<iframe src=' + linkIndexes + ' width=700 height=350></iframe>'\n",
    "IPython.display.HTML(weblinkIndexes)"
   ]
  },
  {
   "cell_type": "markdown",
   "metadata": {},
   "source": [
    "Recuerda inspeccionar la tabla para encontrar algun atributo que sirva para su descarga. De ahí, continúa."
   ]
  },
  {
   "cell_type": "markdown",
   "metadata": {},
   "source": [
    "Para trabajar con tablas, necesitaremos la ayuda de **Pandas**. Verifica qué versión de Pandas tienes:"
   ]
  },
  {
   "cell_type": "code",
   "execution_count": 2,
   "metadata": {},
   "outputs": [
    {
     "data": {
      "text/plain": [
       "'0.23.3'"
      ]
     },
     "execution_count": 2,
     "metadata": {},
     "output_type": "execute_result"
    }
   ],
   "source": [
    "# si obtienes error es por que no lo has instalado\n",
    "import pandas as pd\n",
    "pd.__version__"
   ]
  },
  {
   "cell_type": "markdown",
   "metadata": {},
   "source": [
    "Si la versión es 23, continúa, sino, actualizalo."
   ]
  },
  {
   "cell_type": "code",
   "execution_count": 3,
   "metadata": {},
   "outputs": [],
   "source": [
    "# antes instala'beautifulsoup4'\n",
    "# es posible que necesites salir y volver a cargar notebook\n",
    "\n",
    "wikiTables=pd.read_html(linkIndexes,\n",
    "                        header=0,#titulos están en primera fila: Python cuenta desde '0'\n",
    "                        flavor='bs4', #socio para rescatar texto de html\n",
    "                        attrs={'class': 'wikitable sortable'})#atributo buscado"
   ]
  },
  {
   "cell_type": "markdown",
   "metadata": {},
   "source": [
    "La función *read_html* ha traido las **wikitablas** que hay en esa página de Wikipedia. Veamos cuantas tablas hay:"
   ]
  },
  {
   "cell_type": "code",
   "execution_count": 4,
   "metadata": {},
   "outputs": [
    {
     "data": {
      "text/plain": [
       "1"
      ]
     },
     "execution_count": 4,
     "metadata": {},
     "output_type": "execute_result"
    }
   ],
   "source": [
    "# cuantas tablas tenemos?\n",
    "len(wikiTables)"
   ]
  },
  {
   "cell_type": "markdown",
   "metadata": {},
   "source": [
    "Es importante saber qué estructura se ha utilizado para almacenar las tablas traidas, aunque sólo haya sido una:"
   ]
  },
  {
   "cell_type": "code",
   "execution_count": 5,
   "metadata": {},
   "outputs": [
    {
     "data": {
      "text/plain": [
       "list"
      ]
     },
     "execution_count": 5,
     "metadata": {},
     "output_type": "execute_result"
    }
   ],
   "source": [
    "# las tenemos en:\n",
    "type(wikiTables)"
   ]
  },
  {
   "cell_type": "markdown",
   "metadata": {},
   "source": [
    "Entonces, nuestro tabla (o *dataframe*)  será el primer elemento de esa lista:"
   ]
  },
  {
   "cell_type": "code",
   "execution_count": 6,
   "metadata": {},
   "outputs": [
    {
     "data": {
      "text/plain": [
       "pandas.core.frame.DataFrame"
      ]
     },
     "execution_count": 6,
     "metadata": {},
     "output_type": "execute_result"
    }
   ],
   "source": [
    "type(wikiTables[0])"
   ]
  },
  {
   "cell_type": "markdown",
   "metadata": {},
   "source": [
    "De ahi que, para tener la tabla:"
   ]
  },
  {
   "cell_type": "code",
   "execution_count": 7,
   "metadata": {},
   "outputs": [
    {
     "data": {
      "text/html": [
       "<div>\n",
       "<style scoped>\n",
       "    .dataframe tbody tr th:only-of-type {\n",
       "        vertical-align: middle;\n",
       "    }\n",
       "\n",
       "    .dataframe tbody tr th {\n",
       "        vertical-align: top;\n",
       "    }\n",
       "\n",
       "    .dataframe thead th {\n",
       "        text-align: right;\n",
       "    }\n",
       "</style>\n",
       "<table border=\"1\" class=\"dataframe\">\n",
       "  <thead>\n",
       "    <tr style=\"text-align: right;\">\n",
       "      <th></th>\n",
       "      <th>Country</th>\n",
       "      <th>Freedom in the World 2018[10]</th>\n",
       "      <th>2018 Index of Economic Freedom[11]</th>\n",
       "      <th>2018 Press Freedom Index[3]</th>\n",
       "      <th>2017 Democracy Index[13]</th>\n",
       "    </tr>\n",
       "  </thead>\n",
       "  <tbody>\n",
       "    <tr>\n",
       "      <th>0</th>\n",
       "      <td>Abkhazia</td>\n",
       "      <td>partly free</td>\n",
       "      <td>NaN</td>\n",
       "      <td>NaN</td>\n",
       "      <td>NaN</td>\n",
       "    </tr>\n",
       "    <tr>\n",
       "      <th>1</th>\n",
       "      <td>Afghanistan</td>\n",
       "      <td>not free</td>\n",
       "      <td>mostly unfree</td>\n",
       "      <td>difficult situation</td>\n",
       "      <td>authoritarian regime</td>\n",
       "    </tr>\n",
       "    <tr>\n",
       "      <th>2</th>\n",
       "      <td>Albania</td>\n",
       "      <td>partly free</td>\n",
       "      <td>moderately free</td>\n",
       "      <td>noticeable problems</td>\n",
       "      <td>hybrid regime</td>\n",
       "    </tr>\n",
       "    <tr>\n",
       "      <th>3</th>\n",
       "      <td>Algeria</td>\n",
       "      <td>not free</td>\n",
       "      <td>repressed</td>\n",
       "      <td>difficult situation</td>\n",
       "      <td>authoritarian regime</td>\n",
       "    </tr>\n",
       "    <tr>\n",
       "      <th>4</th>\n",
       "      <td>Andorra</td>\n",
       "      <td>free</td>\n",
       "      <td>NaN</td>\n",
       "      <td>satisfactory situation</td>\n",
       "      <td>NaN</td>\n",
       "    </tr>\n",
       "  </tbody>\n",
       "</table>\n",
       "</div>"
      ],
      "text/plain": [
       "       Country Freedom in the World 2018[10]  \\\n",
       "0     Abkhazia                   partly free   \n",
       "1  Afghanistan                      not free   \n",
       "2      Albania                   partly free   \n",
       "3      Algeria                      not free   \n",
       "4      Andorra                          free   \n",
       "\n",
       "  2018 Index of Economic Freedom[11] 2018 Press Freedom Index[3]  \\\n",
       "0                                NaN                         NaN   \n",
       "1                      mostly unfree         difficult situation   \n",
       "2                    moderately free         noticeable problems   \n",
       "3                          repressed         difficult situation   \n",
       "4                                NaN      satisfactory situation   \n",
       "\n",
       "  2017 Democracy Index[13]  \n",
       "0                      NaN  \n",
       "1     authoritarian regime  \n",
       "2            hybrid regime  \n",
       "3     authoritarian regime  \n",
       "4                      NaN  "
      ]
     },
     "execution_count": 7,
     "metadata": {},
     "output_type": "execute_result"
    }
   ],
   "source": [
    "DF=wikiTables[0] \n",
    "\n",
    "#primera mirada\n",
    "DF.head()"
   ]
  },
  {
   "cell_type": "markdown",
   "metadata": {},
   "source": [
    "La limpieza requiere estrategia. Lo primero que salta a la vista, son los _footnotes_ que están en los títulos:"
   ]
  },
  {
   "cell_type": "code",
   "execution_count": 8,
   "metadata": {},
   "outputs": [
    {
     "data": {
      "text/plain": [
       "Index(['Country', 'Freedom in the World 2018[10]',\n",
       "       '2018 Index of Economic Freedom[11]', '2018 Press Freedom Index[3]',\n",
       "       '2017 Democracy Index[13]'],\n",
       "      dtype='object')"
      ]
     },
     "execution_count": 8,
     "metadata": {},
     "output_type": "execute_result"
    }
   ],
   "source": [
    "DF.columns"
   ]
  },
  {
   "cell_type": "markdown",
   "metadata": {},
   "source": [
    "Podrias intentar poner nombres nuevos y alterar los anteriores, pero pensemos en una estrategia donde tendrías muchas columnas. En ese caso, es mejor eliminar los errores sin importar cuantas columnas hay:"
   ]
  },
  {
   "cell_type": "code",
   "execution_count": 9,
   "metadata": {},
   "outputs": [],
   "source": [
    "import re  # debe estar instalado.\n",
    "\n",
    "# encuentra uno o más espacios: \\\\s+\n",
    "# encuentra uno o mas numeros \\\\d+\n",
    "# encuentra un bracket que abre \\\\[\n",
    "# encuentra un bracket que cierra \\\\]\n",
    "\n",
    "pattern='\\\\s+|\\\\d+|\\\\[|\\\\]' # cuando alguno de estos aparezca\n",
    "replacer=''                  # reemplazalo por esto"
   ]
  },
  {
   "cell_type": "markdown",
   "metadata": {},
   "source": [
    "Ya tengo nuevos titulos de columna (headers). Ahora creo nuevos nombres:"
   ]
  },
  {
   "cell_type": "code",
   "execution_count": 10,
   "metadata": {},
   "outputs": [],
   "source": [
    "newHeaders=[re.sub(pattern,replacer,element) for element in DF.columns]"
   ]
  },
  {
   "cell_type": "markdown",
   "metadata": {},
   "source": [
    "Preparemos los cambios. Hay que preparar los *matches* entre lo antiguo y lo nuevo. Usemos el comando *zip*:"
   ]
  },
  {
   "cell_type": "code",
   "execution_count": 11,
   "metadata": {},
   "outputs": [
    {
     "data": {
      "text/plain": [
       "[('Country', 'Country'),\n",
       " ('Freedom in the World 2018[10]', 'FreedomintheWorld'),\n",
       " ('2018 Index of Economic Freedom[11]', 'IndexofEconomicFreedom'),\n",
       " ('2018 Press Freedom Index[3]', 'PressFreedomIndex'),\n",
       " ('2017 Democracy Index[13]', 'DemocracyIndex')]"
      ]
     },
     "execution_count": 11,
     "metadata": {},
     "output_type": "execute_result"
    }
   ],
   "source": [
    "list(zip(DF.columns,newHeaders))"
   ]
  },
  {
   "cell_type": "code",
   "execution_count": 12,
   "metadata": {},
   "outputs": [
    {
     "data": {
      "text/plain": [
       "{'Country': 'Country',\n",
       " 'Freedom in the World 2018[10]': 'FreedomintheWorld',\n",
       " '2018 Index of Economic Freedom[11]': 'IndexofEconomicFreedom',\n",
       " '2018 Press Freedom Index[3]': 'PressFreedomIndex',\n",
       " '2017 Democracy Index[13]': 'DemocracyIndex'}"
      ]
     },
     "execution_count": 12,
     "metadata": {},
     "output_type": "execute_result"
    }
   ],
   "source": [
    "# tenemos que crear un 'diccionario' usando la anterior:\n",
    "\n",
    "{old:new for old,new in zip(DF.columns,newHeaders)}"
   ]
  },
  {
   "cell_type": "markdown",
   "metadata": {},
   "source": [
    "El *dict* tiene lo que necesito. Eso lo uso en la función *rename* de Pandas:"
   ]
  },
  {
   "cell_type": "code",
   "execution_count": 13,
   "metadata": {},
   "outputs": [],
   "source": [
    "changeMatch={old:new for old,new in zip(DF.columns,newHeaders)}\n",
    "DF.rename(columns=changeMatch,inplace=True)"
   ]
  },
  {
   "cell_type": "code",
   "execution_count": 14,
   "metadata": {},
   "outputs": [
    {
     "data": {
      "text/html": [
       "<div>\n",
       "<style scoped>\n",
       "    .dataframe tbody tr th:only-of-type {\n",
       "        vertical-align: middle;\n",
       "    }\n",
       "\n",
       "    .dataframe tbody tr th {\n",
       "        vertical-align: top;\n",
       "    }\n",
       "\n",
       "    .dataframe thead th {\n",
       "        text-align: right;\n",
       "    }\n",
       "</style>\n",
       "<table border=\"1\" class=\"dataframe\">\n",
       "  <thead>\n",
       "    <tr style=\"text-align: right;\">\n",
       "      <th></th>\n",
       "      <th>Country</th>\n",
       "      <th>FreedomintheWorld</th>\n",
       "      <th>IndexofEconomicFreedom</th>\n",
       "      <th>PressFreedomIndex</th>\n",
       "      <th>DemocracyIndex</th>\n",
       "    </tr>\n",
       "  </thead>\n",
       "  <tbody>\n",
       "    <tr>\n",
       "      <th>0</th>\n",
       "      <td>Abkhazia</td>\n",
       "      <td>partly free</td>\n",
       "      <td>NaN</td>\n",
       "      <td>NaN</td>\n",
       "      <td>NaN</td>\n",
       "    </tr>\n",
       "    <tr>\n",
       "      <th>1</th>\n",
       "      <td>Afghanistan</td>\n",
       "      <td>not free</td>\n",
       "      <td>mostly unfree</td>\n",
       "      <td>difficult situation</td>\n",
       "      <td>authoritarian regime</td>\n",
       "    </tr>\n",
       "    <tr>\n",
       "      <th>2</th>\n",
       "      <td>Albania</td>\n",
       "      <td>partly free</td>\n",
       "      <td>moderately free</td>\n",
       "      <td>noticeable problems</td>\n",
       "      <td>hybrid regime</td>\n",
       "    </tr>\n",
       "    <tr>\n",
       "      <th>3</th>\n",
       "      <td>Algeria</td>\n",
       "      <td>not free</td>\n",
       "      <td>repressed</td>\n",
       "      <td>difficult situation</td>\n",
       "      <td>authoritarian regime</td>\n",
       "    </tr>\n",
       "    <tr>\n",
       "      <th>4</th>\n",
       "      <td>Andorra</td>\n",
       "      <td>free</td>\n",
       "      <td>NaN</td>\n",
       "      <td>satisfactory situation</td>\n",
       "      <td>NaN</td>\n",
       "    </tr>\n",
       "  </tbody>\n",
       "</table>\n",
       "</div>"
      ],
      "text/plain": [
       "       Country FreedomintheWorld IndexofEconomicFreedom  \\\n",
       "0     Abkhazia       partly free                    NaN   \n",
       "1  Afghanistan          not free          mostly unfree   \n",
       "2      Albania       partly free        moderately free   \n",
       "3      Algeria          not free              repressed   \n",
       "4      Andorra              free                    NaN   \n",
       "\n",
       "        PressFreedomIndex        DemocracyIndex  \n",
       "0                     NaN                   NaN  \n",
       "1     difficult situation  authoritarian regime  \n",
       "2     noticeable problems         hybrid regime  \n",
       "3     difficult situation  authoritarian regime  \n",
       "4  satisfactory situation                   NaN  "
      ]
     },
     "execution_count": 14,
     "metadata": {},
     "output_type": "execute_result"
    }
   ],
   "source": [
    "# ahora tenemos:\n",
    "DF.head()"
   ]
  },
  {
   "cell_type": "markdown",
   "metadata": {},
   "source": [
    "Los contenidos de las celdas son texto, veamos si todas se han escrito de la manera correcta:"
   ]
  },
  {
   "cell_type": "code",
   "execution_count": 15,
   "metadata": {},
   "outputs": [
    {
     "data": {
      "text/plain": [
       "free           89\n",
       "partly free    62\n",
       "not free       55\n",
       "Name: FreedomintheWorld, dtype: int64"
      ]
     },
     "execution_count": 15,
     "metadata": {},
     "output_type": "execute_result"
    }
   ],
   "source": [
    "DF.FreedomintheWorld.value_counts()"
   ]
  },
  {
   "cell_type": "code",
   "execution_count": 16,
   "metadata": {},
   "outputs": [
    {
     "data": {
      "text/plain": [
       "mostly unfree      63\n",
       "moderately free    62\n",
       "mostly free        28\n",
       "repressed          21\n",
       "free                6\n",
       "Name: IndexofEconomicFreedom, dtype: int64"
      ]
     },
     "execution_count": 16,
     "metadata": {},
     "output_type": "execute_result"
    }
   ],
   "source": [
    "DF.IndexofEconomicFreedom.value_counts()"
   ]
  },
  {
   "cell_type": "code",
   "execution_count": 17,
   "metadata": {},
   "outputs": [
    {
     "data": {
      "text/plain": [
       "noticeable problems       63\n",
       "difficult situation       50\n",
       "satisfactory situation    37\n",
       "very serious situation    22\n",
       "good situation            17\n",
       "Name: PressFreedomIndex, dtype: int64"
      ]
     },
     "execution_count": 17,
     "metadata": {},
     "output_type": "execute_result"
    }
   ],
   "source": [
    "DF.PressFreedomIndex.value_counts()"
   ]
  },
  {
   "cell_type": "code",
   "execution_count": 18,
   "metadata": {},
   "outputs": [
    {
     "data": {
      "text/plain": [
       "flawed democracy        57\n",
       "authoritarian regime    52\n",
       "hybrid regime           39\n",
       "full democracy          19\n",
       "Name: DemocracyIndex, dtype: int64"
      ]
     },
     "execution_count": 18,
     "metadata": {},
     "output_type": "execute_result"
    }
   ],
   "source": [
    "DF.DemocracyIndex.value_counts()"
   ]
  },
  {
   "cell_type": "markdown",
   "metadata": {},
   "source": [
    "No hay problema con los contenidos."
   ]
  },
  {
   "cell_type": "markdown",
   "metadata": {},
   "source": [
    "[Ir a inicio](#beginning)\n",
    "____\n",
    "\n",
    "<a id='formato'></a>\n",
    "## Parte B: Formateando Valores en Python"
   ]
  },
  {
   "cell_type": "markdown",
   "metadata": {},
   "source": [
    "### Las escalas de medición\n",
    "\n",
    "Para saber si están en la escala correcta, debemos usar _dtypes_:"
   ]
  },
  {
   "cell_type": "code",
   "execution_count": 19,
   "metadata": {},
   "outputs": [
    {
     "data": {
      "text/plain": [
       "Country                   object\n",
       "FreedomintheWorld         object\n",
       "IndexofEconomicFreedom    object\n",
       "PressFreedomIndex         object\n",
       "DemocracyIndex            object\n",
       "dtype: object"
      ]
     },
     "execution_count": 19,
     "metadata": {},
     "output_type": "execute_result"
    }
   ],
   "source": [
    "DF.dtypes"
   ]
  },
  {
   "cell_type": "markdown",
   "metadata": {},
   "source": [
    "Los cuatro indices son categorías, no texto (_object_). Hagamos la conversión:"
   ]
  },
  {
   "cell_type": "code",
   "execution_count": 20,
   "metadata": {},
   "outputs": [],
   "source": [
    "headers=DF.columns # guardando los nombres de todas las columnas\n",
    "\n",
    "# cambiar desde la segunda columna en adelante '[1:]':\n",
    "DF[headers[1:]]=DF[headers[1:]].astype('category')"
   ]
  },
  {
   "cell_type": "code",
   "execution_count": 21,
   "metadata": {},
   "outputs": [
    {
     "data": {
      "text/plain": [
       "Country                     object\n",
       "FreedomintheWorld         category\n",
       "IndexofEconomicFreedom    category\n",
       "PressFreedomIndex         category\n",
       "DemocracyIndex            category\n",
       "dtype: object"
      ]
     },
     "execution_count": 21,
     "metadata": {},
     "output_type": "execute_result"
    }
   ],
   "source": [
    "# obtenemos:\n",
    "DF.dtypes"
   ]
  },
  {
   "cell_type": "markdown",
   "metadata": {},
   "source": [
    "Este cambio es imperceptible a la vista:"
   ]
  },
  {
   "cell_type": "code",
   "execution_count": 22,
   "metadata": {},
   "outputs": [
    {
     "data": {
      "text/html": [
       "<div>\n",
       "<style scoped>\n",
       "    .dataframe tbody tr th:only-of-type {\n",
       "        vertical-align: middle;\n",
       "    }\n",
       "\n",
       "    .dataframe tbody tr th {\n",
       "        vertical-align: top;\n",
       "    }\n",
       "\n",
       "    .dataframe thead th {\n",
       "        text-align: right;\n",
       "    }\n",
       "</style>\n",
       "<table border=\"1\" class=\"dataframe\">\n",
       "  <thead>\n",
       "    <tr style=\"text-align: right;\">\n",
       "      <th></th>\n",
       "      <th>Country</th>\n",
       "      <th>FreedomintheWorld</th>\n",
       "      <th>IndexofEconomicFreedom</th>\n",
       "      <th>PressFreedomIndex</th>\n",
       "      <th>DemocracyIndex</th>\n",
       "    </tr>\n",
       "  </thead>\n",
       "  <tbody>\n",
       "    <tr>\n",
       "      <th>0</th>\n",
       "      <td>Abkhazia</td>\n",
       "      <td>partly free</td>\n",
       "      <td>NaN</td>\n",
       "      <td>NaN</td>\n",
       "      <td>NaN</td>\n",
       "    </tr>\n",
       "    <tr>\n",
       "      <th>1</th>\n",
       "      <td>Afghanistan</td>\n",
       "      <td>not free</td>\n",
       "      <td>mostly unfree</td>\n",
       "      <td>difficult situation</td>\n",
       "      <td>authoritarian regime</td>\n",
       "    </tr>\n",
       "    <tr>\n",
       "      <th>2</th>\n",
       "      <td>Albania</td>\n",
       "      <td>partly free</td>\n",
       "      <td>moderately free</td>\n",
       "      <td>noticeable problems</td>\n",
       "      <td>hybrid regime</td>\n",
       "    </tr>\n",
       "    <tr>\n",
       "      <th>3</th>\n",
       "      <td>Algeria</td>\n",
       "      <td>not free</td>\n",
       "      <td>repressed</td>\n",
       "      <td>difficult situation</td>\n",
       "      <td>authoritarian regime</td>\n",
       "    </tr>\n",
       "    <tr>\n",
       "      <th>4</th>\n",
       "      <td>Andorra</td>\n",
       "      <td>free</td>\n",
       "      <td>NaN</td>\n",
       "      <td>satisfactory situation</td>\n",
       "      <td>NaN</td>\n",
       "    </tr>\n",
       "  </tbody>\n",
       "</table>\n",
       "</div>"
      ],
      "text/plain": [
       "       Country FreedomintheWorld IndexofEconomicFreedom  \\\n",
       "0     Abkhazia       partly free                    NaN   \n",
       "1  Afghanistan          not free          mostly unfree   \n",
       "2      Albania       partly free        moderately free   \n",
       "3      Algeria          not free              repressed   \n",
       "4      Andorra              free                    NaN   \n",
       "\n",
       "        PressFreedomIndex        DemocracyIndex  \n",
       "0                     NaN                   NaN  \n",
       "1     difficult situation  authoritarian regime  \n",
       "2     noticeable problems         hybrid regime  \n",
       "3     difficult situation  authoritarian regime  \n",
       "4  satisfactory situation                   NaN  "
      ]
     },
     "execution_count": 22,
     "metadata": {},
     "output_type": "execute_result"
    }
   ],
   "source": [
    "DF.head()"
   ]
  },
  {
   "cell_type": "markdown",
   "metadata": {},
   "source": [
    "Mientras no sean variables categóricas no podemos utilizar las funciones que tiene Pandas para esas variables. Por ejemplo, pidamos los modalidades:"
   ]
  },
  {
   "cell_type": "code",
   "execution_count": 23,
   "metadata": {},
   "outputs": [
    {
     "data": {
      "text/plain": [
       "Index(['free', 'not free', 'partly free'], dtype='object')"
      ]
     },
     "execution_count": 23,
     "metadata": {},
     "output_type": "execute_result"
    }
   ],
   "source": [
    "DF.FreedomintheWorld.cat.categories"
   ]
  },
  {
   "cell_type": "code",
   "execution_count": 24,
   "metadata": {},
   "outputs": [
    {
     "data": {
      "text/plain": [
       "Index(['free', 'moderately free', 'mostly free', 'mostly unfree', 'repressed'], dtype='object')"
      ]
     },
     "execution_count": 24,
     "metadata": {},
     "output_type": "execute_result"
    }
   ],
   "source": [
    "DF.IndexofEconomicFreedom.cat.categories"
   ]
  },
  {
   "cell_type": "code",
   "execution_count": 25,
   "metadata": {},
   "outputs": [
    {
     "data": {
      "text/plain": [
       "Index(['difficult situation', 'good situation', 'noticeable problems',\n",
       "       'satisfactory situation', 'very serious situation'],\n",
       "      dtype='object')"
      ]
     },
     "execution_count": 25,
     "metadata": {},
     "output_type": "execute_result"
    }
   ],
   "source": [
    "DF.PressFreedomIndex.cat.categories"
   ]
  },
  {
   "cell_type": "code",
   "execution_count": 26,
   "metadata": {},
   "outputs": [
    {
     "data": {
      "text/plain": [
       "Index(['authoritarian regime', 'flawed democracy', 'full democracy',\n",
       "       'hybrid regime'],\n",
       "      dtype='object')"
      ]
     },
     "execution_count": 26,
     "metadata": {},
     "output_type": "execute_result"
    }
   ],
   "source": [
    "DF.DemocracyIndex.cat.categories"
   ]
  },
  {
   "cell_type": "markdown",
   "metadata": {},
   "source": [
    "Vemos que tenemos hasta 5 niveles en 2 variables, y 3 y 4 niveles en otras. De ahi que lo prudente es encontrar la distribución común de valores que refleja la ordinalidad, y los máximos y mínimos. Veamos los pasos iniciales:"
   ]
  },
  {
   "cell_type": "code",
   "execution_count": 27,
   "metadata": {},
   "outputs": [
    {
     "data": {
      "text/plain": [
       "['free', 'not free', 'partly free']"
      ]
     },
     "execution_count": 27,
     "metadata": {},
     "output_type": "execute_result"
    }
   ],
   "source": [
    "#guardando en una lista las modalidades de la variable Freedom in the world:\n",
    "oldWorld=list(DF.FreedomintheWorld.cat.categories)\n",
    "# que es:\n",
    "oldWorld"
   ]
  },
  {
   "cell_type": "code",
   "execution_count": 28,
   "metadata": {},
   "outputs": [],
   "source": [
    "# usando palabras que representen la ordinalidad, \n",
    "# pero que puedan ser usadas en las otras variables\n",
    "# DEBEN crearse en el mismo orden que 'oldWorld'\n",
    "newWorld=['very good','very bad','middle']"
   ]
  },
  {
   "cell_type": "code",
   "execution_count": 29,
   "metadata": {},
   "outputs": [
    {
     "data": {
      "text/plain": [
       "{'free': 'very good', 'not free': 'very bad', 'partly free': 'middle'}"
      ]
     },
     "execution_count": 29,
     "metadata": {},
     "output_type": "execute_result"
    }
   ],
   "source": [
    "# cambiar match entre lo antiguo por lo nuevo:\n",
    "recodeWorld={old:new for old,new in zip (oldWorld,newWorld)}\n",
    "recodeWorld"
   ]
  },
  {
   "cell_type": "markdown",
   "metadata": {},
   "source": [
    "Con el dict *recodeWorld* puedo renombrar luego las categorías. \n",
    "\n",
    "Preparemos ahora los dicts para las otras variables:"
   ]
  },
  {
   "cell_type": "code",
   "execution_count": 30,
   "metadata": {},
   "outputs": [],
   "source": [
    "oldEco=list(DF.IndexofEconomicFreedom.cat.categories)\n",
    "newEco=['very good','middle','good','bad','very bad']\n",
    "recodeEco={old:new for old,new in zip (oldEco,newEco)}\n",
    "\n",
    "oldPress=list(DF.PressFreedomIndex.cat.categories)\n",
    "newPress=['bad','very good','middle','good','very bad']\n",
    "recodePress={old:new for old,new in zip (oldPress,newPress)}\n",
    "\n",
    "oldDemo=list(DF.DemocracyIndex.cat.categories)\n",
    "newDemo=['very bad','good','very good','bad']\n",
    "recodeDemo={old:new for old,new in zip (oldDemo,newDemo)}"
   ]
  },
  {
   "cell_type": "markdown",
   "metadata": {},
   "source": [
    "Ahora usamos los dicts creados para recodificar:"
   ]
  },
  {
   "cell_type": "code",
   "execution_count": 31,
   "metadata": {},
   "outputs": [],
   "source": [
    "DF.FreedomintheWorld.cat.rename_categories(recodeWorld,inplace=True)\n",
    "\n",
    "DF.IndexofEconomicFreedom.cat.rename_categories(recodeEco,inplace=True)\n",
    "\n",
    "DF.PressFreedomIndex.cat.rename_categories(recodePress,inplace=True)\n",
    "\n",
    "DF.DemocracyIndex.cat.rename_categories(recodeDemo,inplace=True)"
   ]
  },
  {
   "cell_type": "markdown",
   "metadata": {},
   "source": [
    "Veamos como quedó:"
   ]
  },
  {
   "cell_type": "code",
   "execution_count": 32,
   "metadata": {},
   "outputs": [
    {
     "data": {
      "text/html": [
       "<div>\n",
       "<style scoped>\n",
       "    .dataframe tbody tr th:only-of-type {\n",
       "        vertical-align: middle;\n",
       "    }\n",
       "\n",
       "    .dataframe tbody tr th {\n",
       "        vertical-align: top;\n",
       "    }\n",
       "\n",
       "    .dataframe thead th {\n",
       "        text-align: right;\n",
       "    }\n",
       "</style>\n",
       "<table border=\"1\" class=\"dataframe\">\n",
       "  <thead>\n",
       "    <tr style=\"text-align: right;\">\n",
       "      <th></th>\n",
       "      <th>Country</th>\n",
       "      <th>FreedomintheWorld</th>\n",
       "      <th>IndexofEconomicFreedom</th>\n",
       "      <th>PressFreedomIndex</th>\n",
       "      <th>DemocracyIndex</th>\n",
       "    </tr>\n",
       "  </thead>\n",
       "  <tbody>\n",
       "    <tr>\n",
       "      <th>0</th>\n",
       "      <td>Abkhazia</td>\n",
       "      <td>middle</td>\n",
       "      <td>NaN</td>\n",
       "      <td>NaN</td>\n",
       "      <td>NaN</td>\n",
       "    </tr>\n",
       "    <tr>\n",
       "      <th>1</th>\n",
       "      <td>Afghanistan</td>\n",
       "      <td>very bad</td>\n",
       "      <td>bad</td>\n",
       "      <td>bad</td>\n",
       "      <td>very bad</td>\n",
       "    </tr>\n",
       "    <tr>\n",
       "      <th>2</th>\n",
       "      <td>Albania</td>\n",
       "      <td>middle</td>\n",
       "      <td>middle</td>\n",
       "      <td>middle</td>\n",
       "      <td>bad</td>\n",
       "    </tr>\n",
       "    <tr>\n",
       "      <th>3</th>\n",
       "      <td>Algeria</td>\n",
       "      <td>very bad</td>\n",
       "      <td>very bad</td>\n",
       "      <td>bad</td>\n",
       "      <td>very bad</td>\n",
       "    </tr>\n",
       "    <tr>\n",
       "      <th>4</th>\n",
       "      <td>Andorra</td>\n",
       "      <td>very good</td>\n",
       "      <td>NaN</td>\n",
       "      <td>good</td>\n",
       "      <td>NaN</td>\n",
       "    </tr>\n",
       "  </tbody>\n",
       "</table>\n",
       "</div>"
      ],
      "text/plain": [
       "       Country FreedomintheWorld IndexofEconomicFreedom PressFreedomIndex  \\\n",
       "0     Abkhazia            middle                    NaN               NaN   \n",
       "1  Afghanistan          very bad                    bad               bad   \n",
       "2      Albania            middle                 middle            middle   \n",
       "3      Algeria          very bad               very bad               bad   \n",
       "4      Andorra         very good                    NaN              good   \n",
       "\n",
       "  DemocracyIndex  \n",
       "0            NaN  \n",
       "1       very bad  \n",
       "2            bad  \n",
       "3       very bad  \n",
       "4            NaN  "
      ]
     },
     "execution_count": 32,
     "metadata": {},
     "output_type": "execute_result"
    }
   ],
   "source": [
    "DF.head()"
   ]
  },
  {
   "cell_type": "markdown",
   "metadata": {},
   "source": [
    "Los datos aun no son ordinales, pero aqui serán:"
   ]
  },
  {
   "cell_type": "code",
   "execution_count": 33,
   "metadata": {},
   "outputs": [
    {
     "data": {
      "text/plain": [
       "CategoricalDtype(categories=['very good', 'good', 'middle', 'bad', 'very bad'], ordered=True)"
      ]
     },
     "execution_count": 33,
     "metadata": {},
     "output_type": "execute_result"
    }
   ],
   "source": [
    "# creemos la secuencia:\n",
    "from pandas.api.types import CategoricalDtype\n",
    "\n",
    "sequence=['very good','good','middle','bad','very bad']\n",
    "ordinal = CategoricalDtype(categories=sequence,\n",
    "                           ordered=True)\n",
    "\n",
    "#aquí está la secuencia pero con propiedades \n",
    "ordinal"
   ]
  },
  {
   "cell_type": "code",
   "execution_count": 34,
   "metadata": {},
   "outputs": [],
   "source": [
    "# apliquemos la secuencia con sus propiedades a la data:\n",
    "\n",
    "DF[headers[1:]]=DF[headers[1:]].astype(ordinal)"
   ]
  },
  {
   "cell_type": "code",
   "execution_count": 35,
   "metadata": {},
   "outputs": [
    {
     "data": {
      "text/html": [
       "<div>\n",
       "<style scoped>\n",
       "    .dataframe tbody tr th:only-of-type {\n",
       "        vertical-align: middle;\n",
       "    }\n",
       "\n",
       "    .dataframe tbody tr th {\n",
       "        vertical-align: top;\n",
       "    }\n",
       "\n",
       "    .dataframe thead th {\n",
       "        text-align: right;\n",
       "    }\n",
       "</style>\n",
       "<table border=\"1\" class=\"dataframe\">\n",
       "  <thead>\n",
       "    <tr style=\"text-align: right;\">\n",
       "      <th></th>\n",
       "      <th>Country</th>\n",
       "      <th>FreedomintheWorld</th>\n",
       "      <th>IndexofEconomicFreedom</th>\n",
       "      <th>PressFreedomIndex</th>\n",
       "      <th>DemocracyIndex</th>\n",
       "    </tr>\n",
       "  </thead>\n",
       "  <tbody>\n",
       "    <tr>\n",
       "      <th>0</th>\n",
       "      <td>Abkhazia</td>\n",
       "      <td>middle</td>\n",
       "      <td>NaN</td>\n",
       "      <td>NaN</td>\n",
       "      <td>NaN</td>\n",
       "    </tr>\n",
       "    <tr>\n",
       "      <th>1</th>\n",
       "      <td>Afghanistan</td>\n",
       "      <td>very bad</td>\n",
       "      <td>bad</td>\n",
       "      <td>bad</td>\n",
       "      <td>very bad</td>\n",
       "    </tr>\n",
       "    <tr>\n",
       "      <th>2</th>\n",
       "      <td>Albania</td>\n",
       "      <td>middle</td>\n",
       "      <td>middle</td>\n",
       "      <td>middle</td>\n",
       "      <td>bad</td>\n",
       "    </tr>\n",
       "    <tr>\n",
       "      <th>3</th>\n",
       "      <td>Algeria</td>\n",
       "      <td>very bad</td>\n",
       "      <td>very bad</td>\n",
       "      <td>bad</td>\n",
       "      <td>very bad</td>\n",
       "    </tr>\n",
       "    <tr>\n",
       "      <th>4</th>\n",
       "      <td>Andorra</td>\n",
       "      <td>very good</td>\n",
       "      <td>NaN</td>\n",
       "      <td>good</td>\n",
       "      <td>NaN</td>\n",
       "    </tr>\n",
       "  </tbody>\n",
       "</table>\n",
       "</div>"
      ],
      "text/plain": [
       "       Country FreedomintheWorld IndexofEconomicFreedom PressFreedomIndex  \\\n",
       "0     Abkhazia            middle                    NaN               NaN   \n",
       "1  Afghanistan          very bad                    bad               bad   \n",
       "2      Albania            middle                 middle            middle   \n",
       "3      Algeria          very bad               very bad               bad   \n",
       "4      Andorra         very good                    NaN              good   \n",
       "\n",
       "  DemocracyIndex  \n",
       "0            NaN  \n",
       "1       very bad  \n",
       "2            bad  \n",
       "3       very bad  \n",
       "4            NaN  "
      ]
     },
     "execution_count": 35,
     "metadata": {},
     "output_type": "execute_result"
    }
   ],
   "source": [
    "# asi va:\n",
    "DF.head()"
   ]
  },
  {
   "cell_type": "markdown",
   "metadata": {},
   "source": [
    "Notemos que las modalidades no usadas están presentes:"
   ]
  },
  {
   "cell_type": "code",
   "execution_count": 36,
   "metadata": {},
   "outputs": [
    {
     "data": {
      "text/plain": [
       "very good    89\n",
       "good          0\n",
       "middle       62\n",
       "bad           0\n",
       "very bad     55\n",
       "NaN           1\n",
       "Name: FreedomintheWorld, dtype: int64"
      ]
     },
     "execution_count": 36,
     "metadata": {},
     "output_type": "execute_result"
    }
   ],
   "source": [
    "DF.FreedomintheWorld.value_counts(sort=False,dropna=False)"
   ]
  },
  {
   "cell_type": "markdown",
   "metadata": {},
   "source": [
    "Verificaciones adicionales:"
   ]
  },
  {
   "cell_type": "code",
   "execution_count": 37,
   "metadata": {},
   "outputs": [
    {
     "data": {
      "text/plain": [
       "Index(['very good', 'good', 'middle', 'bad', 'very bad'], dtype='object')"
      ]
     },
     "execution_count": 37,
     "metadata": {},
     "output_type": "execute_result"
    }
   ],
   "source": [
    "#las categorias:\n",
    "DF.PressFreedomIndex.cat.categories"
   ]
  },
  {
   "cell_type": "code",
   "execution_count": 38,
   "metadata": {},
   "outputs": [
    {
     "data": {
      "text/plain": [
       "True"
      ]
     },
     "execution_count": 38,
     "metadata": {},
     "output_type": "execute_result"
    }
   ],
   "source": [
    "#tipo de escala?\n",
    "DF.PressFreedomIndex.cat.ordered"
   ]
  },
  {
   "cell_type": "markdown",
   "metadata": {},
   "source": [
    "[Ir a inicio](#beginning)\n",
    "____\n",
    "<a id='monotony'></a>\n",
    "\n",
    "### Cambio de Monotonía:\n",
    "\n",
    "Verifiquemos si está bien la asignación que hemos hecho:"
   ]
  },
  {
   "cell_type": "code",
   "execution_count": 39,
   "metadata": {},
   "outputs": [
    {
     "data": {
      "text/plain": [
       "0       NaN\n",
       "1       bad\n",
       "2    middle\n",
       "3       bad\n",
       "4      good\n",
       "Name: PressFreedomIndex, dtype: category\n",
       "Categories (5, object): [very good < good < middle < bad < very bad]"
      ]
     },
     "execution_count": 39,
     "metadata": {},
     "output_type": "execute_result"
    }
   ],
   "source": [
    "DF.PressFreedomIndex.head()"
   ]
  },
  {
   "cell_type": "code",
   "execution_count": 40,
   "metadata": {},
   "outputs": [
    {
     "data": {
      "text/plain": [
       "'very bad'"
      ]
     },
     "execution_count": 40,
     "metadata": {},
     "output_type": "execute_result"
    }
   ],
   "source": [
    "DF.PressFreedomIndex.max()"
   ]
  },
  {
   "cell_type": "markdown",
   "metadata": {},
   "source": [
    "Este es un caso donde quiza la intensidad creciente debe ser hacia el sentido positivo del concepto. Claro que pudimos hacerlo al inicio, pero aprovechemos para saber cómo se hace.\n",
    "\n",
    "Para ello crearé una función:"
   ]
  },
  {
   "cell_type": "code",
   "execution_count": 41,
   "metadata": {},
   "outputs": [],
   "source": [
    "# la función recibe una columna:\n",
    "def changeMonotony(aColumn):\n",
    "\n",
    "    # Invierto las categorias de la columna:\n",
    "    newOrder= aColumn.cat.categories[::-1]  # [::-1]  reverses the list.\n",
    "    \n",
    "    # se retorna columa con modalidades reordenadas:\n",
    "    return aColumn.cat.reorder_categories(newOrder,ordered=True)"
   ]
  },
  {
   "cell_type": "markdown",
   "metadata": {},
   "source": [
    "Esta función la aplica de nuevo, columna por columna:"
   ]
  },
  {
   "cell_type": "code",
   "execution_count": 42,
   "metadata": {},
   "outputs": [],
   "source": [
    "DF[headers[1:]]=DF[headers[1:]].apply(changeMonotony)"
   ]
  },
  {
   "cell_type": "markdown",
   "metadata": {},
   "source": [
    "¿Funcionó?"
   ]
  },
  {
   "cell_type": "code",
   "execution_count": 43,
   "metadata": {},
   "outputs": [
    {
     "data": {
      "text/plain": [
       "0       NaN\n",
       "1       bad\n",
       "2    middle\n",
       "3       bad\n",
       "4      good\n",
       "Name: PressFreedomIndex, dtype: category\n",
       "Categories (5, object): [very bad < bad < middle < good < very good]"
      ]
     },
     "execution_count": 43,
     "metadata": {},
     "output_type": "execute_result"
    }
   ],
   "source": [
    "DF.PressFreedomIndex.head()"
   ]
  },
  {
   "cell_type": "code",
   "execution_count": 44,
   "metadata": {},
   "outputs": [
    {
     "data": {
      "text/plain": [
       "'very good'"
      ]
     },
     "execution_count": 44,
     "metadata": {},
     "output_type": "execute_result"
    }
   ],
   "source": [
    "DF.PressFreedomIndex.max()"
   ]
  },
  {
   "cell_type": "markdown",
   "metadata": {},
   "source": [
    "Tenemos aun valores perdidos, por lo que podríamos convertirlos las categorías en números para realizar alguno calculos para una imputación simple:"
   ]
  },
  {
   "cell_type": "code",
   "execution_count": 45,
   "metadata": {},
   "outputs": [],
   "source": [
    "oldlevels=['very bad','bad','middle','good','very good']\n",
    "newlevels=[1,2,3,4,5]\n",
    "recodeMatch={old:new for old,new in zip (oldlevels,newlevels)}"
   ]
  },
  {
   "cell_type": "code",
   "execution_count": 46,
   "metadata": {},
   "outputs": [
    {
     "data": {
      "text/html": [
       "<div>\n",
       "<style scoped>\n",
       "    .dataframe tbody tr th:only-of-type {\n",
       "        vertical-align: middle;\n",
       "    }\n",
       "\n",
       "    .dataframe tbody tr th {\n",
       "        vertical-align: top;\n",
       "    }\n",
       "\n",
       "    .dataframe thead th {\n",
       "        text-align: right;\n",
       "    }\n",
       "</style>\n",
       "<table border=\"1\" class=\"dataframe\">\n",
       "  <thead>\n",
       "    <tr style=\"text-align: right;\">\n",
       "      <th></th>\n",
       "      <th>Country</th>\n",
       "      <th>FreedomintheWorld</th>\n",
       "      <th>IndexofEconomicFreedom</th>\n",
       "      <th>PressFreedomIndex</th>\n",
       "      <th>DemocracyIndex</th>\n",
       "    </tr>\n",
       "  </thead>\n",
       "  <tbody>\n",
       "    <tr>\n",
       "      <th>0</th>\n",
       "      <td>Abkhazia</td>\n",
       "      <td>3</td>\n",
       "      <td>NaN</td>\n",
       "      <td>NaN</td>\n",
       "      <td>NaN</td>\n",
       "    </tr>\n",
       "    <tr>\n",
       "      <th>1</th>\n",
       "      <td>Afghanistan</td>\n",
       "      <td>1</td>\n",
       "      <td>2.0</td>\n",
       "      <td>2.0</td>\n",
       "      <td>1.0</td>\n",
       "    </tr>\n",
       "    <tr>\n",
       "      <th>2</th>\n",
       "      <td>Albania</td>\n",
       "      <td>3</td>\n",
       "      <td>3.0</td>\n",
       "      <td>3.0</td>\n",
       "      <td>2.0</td>\n",
       "    </tr>\n",
       "    <tr>\n",
       "      <th>3</th>\n",
       "      <td>Algeria</td>\n",
       "      <td>1</td>\n",
       "      <td>1.0</td>\n",
       "      <td>2.0</td>\n",
       "      <td>1.0</td>\n",
       "    </tr>\n",
       "    <tr>\n",
       "      <th>4</th>\n",
       "      <td>Andorra</td>\n",
       "      <td>5</td>\n",
       "      <td>NaN</td>\n",
       "      <td>4.0</td>\n",
       "      <td>NaN</td>\n",
       "    </tr>\n",
       "    <tr>\n",
       "      <th>5</th>\n",
       "      <td>Angola</td>\n",
       "      <td>1</td>\n",
       "      <td>1.0</td>\n",
       "      <td>2.0</td>\n",
       "      <td>1.0</td>\n",
       "    </tr>\n",
       "    <tr>\n",
       "      <th>6</th>\n",
       "      <td>Antigua and Barbuda</td>\n",
       "      <td>5</td>\n",
       "      <td>NaN</td>\n",
       "      <td>4.0</td>\n",
       "      <td>NaN</td>\n",
       "    </tr>\n",
       "    <tr>\n",
       "      <th>7</th>\n",
       "      <td>Argentina</td>\n",
       "      <td>5</td>\n",
       "      <td>2.0</td>\n",
       "      <td>3.0</td>\n",
       "      <td>4.0</td>\n",
       "    </tr>\n",
       "    <tr>\n",
       "      <th>8</th>\n",
       "      <td>Armenia</td>\n",
       "      <td>3</td>\n",
       "      <td>3.0</td>\n",
       "      <td>3.0</td>\n",
       "      <td>2.0</td>\n",
       "    </tr>\n",
       "    <tr>\n",
       "      <th>9</th>\n",
       "      <td>Australia</td>\n",
       "      <td>5</td>\n",
       "      <td>5.0</td>\n",
       "      <td>4.0</td>\n",
       "      <td>5.0</td>\n",
       "    </tr>\n",
       "  </tbody>\n",
       "</table>\n",
       "</div>"
      ],
      "text/plain": [
       "               Country FreedomintheWorld IndexofEconomicFreedom  \\\n",
       "0             Abkhazia                 3                    NaN   \n",
       "1          Afghanistan                 1                    2.0   \n",
       "2              Albania                 3                    3.0   \n",
       "3              Algeria                 1                    1.0   \n",
       "4              Andorra                 5                    NaN   \n",
       "5               Angola                 1                    1.0   \n",
       "6  Antigua and Barbuda                 5                    NaN   \n",
       "7            Argentina                 5                    2.0   \n",
       "8              Armenia                 3                    3.0   \n",
       "9            Australia                 5                    5.0   \n",
       "\n",
       "  PressFreedomIndex DemocracyIndex  \n",
       "0               NaN            NaN  \n",
       "1               2.0            1.0  \n",
       "2               3.0            2.0  \n",
       "3               2.0            1.0  \n",
       "4               4.0            NaN  \n",
       "5               2.0            1.0  \n",
       "6               4.0            NaN  \n",
       "7               3.0            4.0  \n",
       "8               3.0            2.0  \n",
       "9               4.0            5.0  "
      ]
     },
     "execution_count": 46,
     "metadata": {},
     "output_type": "execute_result"
    }
   ],
   "source": [
    "renamer=lambda column: column.cat.rename_categories(recodeMatch)\n",
    "DF[headers[1:]]=DF[headers[1:]].apply(renamer)\n",
    "DF.head(10)"
   ]
  },
  {
   "cell_type": "markdown",
   "metadata": {},
   "source": [
    "La función para reemplazarlos es sencilla, pero hay que evitar facilismos. Veamos:"
   ]
  },
  {
   "cell_type": "code",
   "execution_count": 47,
   "metadata": {},
   "outputs": [
    {
     "data": {
      "text/plain": [
       "Country                     object\n",
       "FreedomintheWorld         category\n",
       "IndexofEconomicFreedom    category\n",
       "PressFreedomIndex         category\n",
       "DemocracyIndex            category\n",
       "dtype: object"
      ]
     },
     "execution_count": 47,
     "metadata": {},
     "output_type": "execute_result"
    }
   ],
   "source": [
    "#recordar:\n",
    "DF.dtypes"
   ]
  },
  {
   "cell_type": "code",
   "execution_count": 48,
   "metadata": {},
   "outputs": [],
   "source": [
    "#tienen que ser numericos:\n",
    "DF[headers[1:]]=DF[headers[1:]].astype(dtype='float',errors='ignore')"
   ]
  },
  {
   "cell_type": "code",
   "execution_count": 49,
   "metadata": {},
   "outputs": [
    {
     "data": {
      "text/plain": [
       "Country                    object\n",
       "FreedomintheWorld         float64\n",
       "IndexofEconomicFreedom    float64\n",
       "PressFreedomIndex         float64\n",
       "DemocracyIndex            float64\n",
       "dtype: object"
      ]
     },
     "execution_count": 49,
     "metadata": {},
     "output_type": "execute_result"
    }
   ],
   "source": [
    "# ahora:\n",
    "DF.dtypes"
   ]
  },
  {
   "cell_type": "code",
   "execution_count": 50,
   "metadata": {},
   "outputs": [
    {
     "data": {
      "text/html": [
       "<div>\n",
       "<style scoped>\n",
       "    .dataframe tbody tr th:only-of-type {\n",
       "        vertical-align: middle;\n",
       "    }\n",
       "\n",
       "    .dataframe tbody tr th {\n",
       "        vertical-align: top;\n",
       "    }\n",
       "\n",
       "    .dataframe thead th {\n",
       "        text-align: right;\n",
       "    }\n",
       "</style>\n",
       "<table border=\"1\" class=\"dataframe\">\n",
       "  <thead>\n",
       "    <tr style=\"text-align: right;\">\n",
       "      <th></th>\n",
       "      <th>Country</th>\n",
       "      <th>FreedomintheWorld</th>\n",
       "      <th>IndexofEconomicFreedom</th>\n",
       "      <th>PressFreedomIndex</th>\n",
       "      <th>DemocracyIndex</th>\n",
       "    </tr>\n",
       "  </thead>\n",
       "  <tbody>\n",
       "    <tr>\n",
       "      <th>0</th>\n",
       "      <td>Abkhazia</td>\n",
       "      <td>3.0</td>\n",
       "      <td>NaN</td>\n",
       "      <td>NaN</td>\n",
       "      <td>NaN</td>\n",
       "    </tr>\n",
       "    <tr>\n",
       "      <th>1</th>\n",
       "      <td>Afghanistan</td>\n",
       "      <td>1.0</td>\n",
       "      <td>2.0</td>\n",
       "      <td>2.0</td>\n",
       "      <td>1.0</td>\n",
       "    </tr>\n",
       "    <tr>\n",
       "      <th>2</th>\n",
       "      <td>Albania</td>\n",
       "      <td>3.0</td>\n",
       "      <td>3.0</td>\n",
       "      <td>3.0</td>\n",
       "      <td>2.0</td>\n",
       "    </tr>\n",
       "    <tr>\n",
       "      <th>3</th>\n",
       "      <td>Algeria</td>\n",
       "      <td>1.0</td>\n",
       "      <td>1.0</td>\n",
       "      <td>2.0</td>\n",
       "      <td>1.0</td>\n",
       "    </tr>\n",
       "    <tr>\n",
       "      <th>4</th>\n",
       "      <td>Andorra</td>\n",
       "      <td>5.0</td>\n",
       "      <td>NaN</td>\n",
       "      <td>4.0</td>\n",
       "      <td>NaN</td>\n",
       "    </tr>\n",
       "    <tr>\n",
       "      <th>5</th>\n",
       "      <td>Angola</td>\n",
       "      <td>1.0</td>\n",
       "      <td>1.0</td>\n",
       "      <td>2.0</td>\n",
       "      <td>1.0</td>\n",
       "    </tr>\n",
       "    <tr>\n",
       "      <th>6</th>\n",
       "      <td>Antigua and Barbuda</td>\n",
       "      <td>5.0</td>\n",
       "      <td>NaN</td>\n",
       "      <td>4.0</td>\n",
       "      <td>NaN</td>\n",
       "    </tr>\n",
       "    <tr>\n",
       "      <th>7</th>\n",
       "      <td>Argentina</td>\n",
       "      <td>5.0</td>\n",
       "      <td>2.0</td>\n",
       "      <td>3.0</td>\n",
       "      <td>4.0</td>\n",
       "    </tr>\n",
       "    <tr>\n",
       "      <th>8</th>\n",
       "      <td>Armenia</td>\n",
       "      <td>3.0</td>\n",
       "      <td>3.0</td>\n",
       "      <td>3.0</td>\n",
       "      <td>2.0</td>\n",
       "    </tr>\n",
       "    <tr>\n",
       "      <th>9</th>\n",
       "      <td>Australia</td>\n",
       "      <td>5.0</td>\n",
       "      <td>5.0</td>\n",
       "      <td>4.0</td>\n",
       "      <td>5.0</td>\n",
       "    </tr>\n",
       "  </tbody>\n",
       "</table>\n",
       "</div>"
      ],
      "text/plain": [
       "               Country  FreedomintheWorld  IndexofEconomicFreedom  \\\n",
       "0             Abkhazia                3.0                     NaN   \n",
       "1          Afghanistan                1.0                     2.0   \n",
       "2              Albania                3.0                     3.0   \n",
       "3              Algeria                1.0                     1.0   \n",
       "4              Andorra                5.0                     NaN   \n",
       "5               Angola                1.0                     1.0   \n",
       "6  Antigua and Barbuda                5.0                     NaN   \n",
       "7            Argentina                5.0                     2.0   \n",
       "8              Armenia                3.0                     3.0   \n",
       "9            Australia                5.0                     5.0   \n",
       "\n",
       "   PressFreedomIndex  DemocracyIndex  \n",
       "0                NaN             NaN  \n",
       "1                2.0             1.0  \n",
       "2                3.0             2.0  \n",
       "3                2.0             1.0  \n",
       "4                4.0             NaN  \n",
       "5                2.0             1.0  \n",
       "6                4.0             NaN  \n",
       "7                3.0             4.0  \n",
       "8                3.0             2.0  \n",
       "9                4.0             5.0  "
      ]
     },
     "execution_count": 50,
     "metadata": {},
     "output_type": "execute_result"
    }
   ],
   "source": [
    "DF.head(10)"
   ]
  },
  {
   "cell_type": "markdown",
   "metadata": {},
   "source": [
    "Veamos qué variables tienen menos valores perdidos:"
   ]
  },
  {
   "cell_type": "code",
   "execution_count": 51,
   "metadata": {},
   "outputs": [
    {
     "data": {
      "text/plain": [
       "Country                    0\n",
       "FreedomintheWorld          1\n",
       "IndexofEconomicFreedom    27\n",
       "PressFreedomIndex         18\n",
       "DemocracyIndex            40\n",
       "dtype: int64"
      ]
     },
     "execution_count": 51,
     "metadata": {},
     "output_type": "execute_result"
    }
   ],
   "source": [
    "# sumo los perdidos en cada una:\n",
    "DF.isnull().sum() "
   ]
  },
  {
   "cell_type": "markdown",
   "metadata": {},
   "source": [
    "Como la *FreedomintheWorld* es quien tiene menos perdidos, debo calcular la mediana de cada variable, segun el nivel de *FreedomintheWorld*:"
   ]
  },
  {
   "cell_type": "code",
   "execution_count": 52,
   "metadata": {},
   "outputs": [
    {
     "data": {
      "text/html": [
       "<div>\n",
       "<style scoped>\n",
       "    .dataframe tbody tr th:only-of-type {\n",
       "        vertical-align: middle;\n",
       "    }\n",
       "\n",
       "    .dataframe tbody tr th {\n",
       "        vertical-align: top;\n",
       "    }\n",
       "\n",
       "    .dataframe thead th {\n",
       "        text-align: right;\n",
       "    }\n",
       "</style>\n",
       "<table border=\"1\" class=\"dataframe\">\n",
       "  <thead>\n",
       "    <tr style=\"text-align: right;\">\n",
       "      <th></th>\n",
       "      <th>IndexofEconomicFreedom</th>\n",
       "      <th>PressFreedomIndex</th>\n",
       "      <th>DemocracyIndex</th>\n",
       "    </tr>\n",
       "    <tr>\n",
       "      <th>FreedomintheWorld</th>\n",
       "      <th></th>\n",
       "      <th></th>\n",
       "      <th></th>\n",
       "    </tr>\n",
       "  </thead>\n",
       "  <tbody>\n",
       "    <tr>\n",
       "      <th>1.0</th>\n",
       "      <td>2.0</td>\n",
       "      <td>2.0</td>\n",
       "      <td>1.0</td>\n",
       "    </tr>\n",
       "    <tr>\n",
       "      <th>3.0</th>\n",
       "      <td>2.0</td>\n",
       "      <td>3.0</td>\n",
       "      <td>2.0</td>\n",
       "    </tr>\n",
       "    <tr>\n",
       "      <th>5.0</th>\n",
       "      <td>3.0</td>\n",
       "      <td>4.0</td>\n",
       "      <td>4.0</td>\n",
       "    </tr>\n",
       "  </tbody>\n",
       "</table>\n",
       "</div>"
      ],
      "text/plain": [
       "                   IndexofEconomicFreedom  PressFreedomIndex  DemocracyIndex\n",
       "FreedomintheWorld                                                           \n",
       "1.0                                   2.0                2.0             1.0\n",
       "3.0                                   2.0                3.0             2.0\n",
       "5.0                                   3.0                4.0             4.0"
      ]
     },
     "execution_count": 52,
     "metadata": {},
     "output_type": "execute_result"
    }
   ],
   "source": [
    "#mediana por grupos: \n",
    "DF.groupby(headers[1])[headers[2:]].median()"
   ]
  },
  {
   "cell_type": "markdown",
   "metadata": {},
   "source": [
    "Lo que veo tiene sentido, entonces lo lógico sería que la mediana de cada uno de estos subgrupos reemplace a los perdidos de cada subgrupo. Osea:"
   ]
  },
  {
   "cell_type": "code",
   "execution_count": 53,
   "metadata": {},
   "outputs": [],
   "source": [
    "# mas facil:\n",
    "for col in headers[2:]:\n",
    "    DF[col].fillna(DF.groupby([\"FreedomintheWorld\"])[col].transform(\"median\"), inplace=True)"
   ]
  },
  {
   "cell_type": "markdown",
   "metadata": {},
   "source": [
    "Obteniendo:"
   ]
  },
  {
   "cell_type": "code",
   "execution_count": 54,
   "metadata": {},
   "outputs": [
    {
     "data": {
      "text/html": [
       "<div>\n",
       "<style scoped>\n",
       "    .dataframe tbody tr th:only-of-type {\n",
       "        vertical-align: middle;\n",
       "    }\n",
       "\n",
       "    .dataframe tbody tr th {\n",
       "        vertical-align: top;\n",
       "    }\n",
       "\n",
       "    .dataframe thead th {\n",
       "        text-align: right;\n",
       "    }\n",
       "</style>\n",
       "<table border=\"1\" class=\"dataframe\">\n",
       "  <thead>\n",
       "    <tr style=\"text-align: right;\">\n",
       "      <th></th>\n",
       "      <th>Country</th>\n",
       "      <th>FreedomintheWorld</th>\n",
       "      <th>IndexofEconomicFreedom</th>\n",
       "      <th>PressFreedomIndex</th>\n",
       "      <th>DemocracyIndex</th>\n",
       "    </tr>\n",
       "  </thead>\n",
       "  <tbody>\n",
       "    <tr>\n",
       "      <th>0</th>\n",
       "      <td>Abkhazia</td>\n",
       "      <td>3.0</td>\n",
       "      <td>2.0</td>\n",
       "      <td>3.0</td>\n",
       "      <td>2.0</td>\n",
       "    </tr>\n",
       "    <tr>\n",
       "      <th>1</th>\n",
       "      <td>Afghanistan</td>\n",
       "      <td>1.0</td>\n",
       "      <td>2.0</td>\n",
       "      <td>2.0</td>\n",
       "      <td>1.0</td>\n",
       "    </tr>\n",
       "    <tr>\n",
       "      <th>2</th>\n",
       "      <td>Albania</td>\n",
       "      <td>3.0</td>\n",
       "      <td>3.0</td>\n",
       "      <td>3.0</td>\n",
       "      <td>2.0</td>\n",
       "    </tr>\n",
       "    <tr>\n",
       "      <th>3</th>\n",
       "      <td>Algeria</td>\n",
       "      <td>1.0</td>\n",
       "      <td>1.0</td>\n",
       "      <td>2.0</td>\n",
       "      <td>1.0</td>\n",
       "    </tr>\n",
       "    <tr>\n",
       "      <th>4</th>\n",
       "      <td>Andorra</td>\n",
       "      <td>5.0</td>\n",
       "      <td>3.0</td>\n",
       "      <td>4.0</td>\n",
       "      <td>4.0</td>\n",
       "    </tr>\n",
       "    <tr>\n",
       "      <th>5</th>\n",
       "      <td>Angola</td>\n",
       "      <td>1.0</td>\n",
       "      <td>1.0</td>\n",
       "      <td>2.0</td>\n",
       "      <td>1.0</td>\n",
       "    </tr>\n",
       "    <tr>\n",
       "      <th>6</th>\n",
       "      <td>Antigua and Barbuda</td>\n",
       "      <td>5.0</td>\n",
       "      <td>3.0</td>\n",
       "      <td>4.0</td>\n",
       "      <td>4.0</td>\n",
       "    </tr>\n",
       "    <tr>\n",
       "      <th>7</th>\n",
       "      <td>Argentina</td>\n",
       "      <td>5.0</td>\n",
       "      <td>2.0</td>\n",
       "      <td>3.0</td>\n",
       "      <td>4.0</td>\n",
       "    </tr>\n",
       "    <tr>\n",
       "      <th>8</th>\n",
       "      <td>Armenia</td>\n",
       "      <td>3.0</td>\n",
       "      <td>3.0</td>\n",
       "      <td>3.0</td>\n",
       "      <td>2.0</td>\n",
       "    </tr>\n",
       "    <tr>\n",
       "      <th>9</th>\n",
       "      <td>Australia</td>\n",
       "      <td>5.0</td>\n",
       "      <td>5.0</td>\n",
       "      <td>4.0</td>\n",
       "      <td>5.0</td>\n",
       "    </tr>\n",
       "  </tbody>\n",
       "</table>\n",
       "</div>"
      ],
      "text/plain": [
       "               Country  FreedomintheWorld  IndexofEconomicFreedom  \\\n",
       "0             Abkhazia                3.0                     2.0   \n",
       "1          Afghanistan                1.0                     2.0   \n",
       "2              Albania                3.0                     3.0   \n",
       "3              Algeria                1.0                     1.0   \n",
       "4              Andorra                5.0                     3.0   \n",
       "5               Angola                1.0                     1.0   \n",
       "6  Antigua and Barbuda                5.0                     3.0   \n",
       "7            Argentina                5.0                     2.0   \n",
       "8              Armenia                3.0                     3.0   \n",
       "9            Australia                5.0                     5.0   \n",
       "\n",
       "   PressFreedomIndex  DemocracyIndex  \n",
       "0                3.0             2.0  \n",
       "1                2.0             1.0  \n",
       "2                3.0             2.0  \n",
       "3                2.0             1.0  \n",
       "4                4.0             4.0  \n",
       "5                2.0             1.0  \n",
       "6                4.0             4.0  \n",
       "7                3.0             4.0  \n",
       "8                3.0             2.0  \n",
       "9                4.0             5.0  "
      ]
     },
     "execution_count": 54,
     "metadata": {},
     "output_type": "execute_result"
    }
   ],
   "source": [
    "DF.head(10)"
   ]
  },
  {
   "cell_type": "markdown",
   "metadata": {},
   "source": [
    "Podríamos poner titulares más sencillo a esta data:"
   ]
  },
  {
   "cell_type": "code",
   "execution_count": 55,
   "metadata": {},
   "outputs": [],
   "source": [
    "DF.columns=[\"Country\",\"WorldFreedom\",\"EconomicFreedom\",\"PressFreedom\",\"Democracy\"]"
   ]
  },
  {
   "cell_type": "markdown",
   "metadata": {},
   "source": [
    "Podríamos añadir una variable de tipo numérico a nuestros datos:"
   ]
  },
  {
   "cell_type": "code",
   "execution_count": 56,
   "metadata": {},
   "outputs": [
    {
     "data": {
      "text/plain": [
       "5"
      ]
     },
     "execution_count": 56,
     "metadata": {},
     "output_type": "execute_result"
    }
   ],
   "source": [
    "gdpLink=\"https://en.wikipedia.org/wiki/List_of_countries_by_GDP_(PPP)_per_capita\"\n",
    "gdpTables=pd.read_html(gdpLink,header=0,\n",
    "                        flavor='bs4',\n",
    "                        attrs={'class': 'wikitable sortable'})\n",
    "# cuantas tenemos:\n",
    "len(gdpTables)"
   ]
  },
  {
   "cell_type": "code",
   "execution_count": 57,
   "metadata": {},
   "outputs": [
    {
     "data": {
      "text/html": [
       "<div>\n",
       "<style scoped>\n",
       "    .dataframe tbody tr th:only-of-type {\n",
       "        vertical-align: middle;\n",
       "    }\n",
       "\n",
       "    .dataframe tbody tr th {\n",
       "        vertical-align: top;\n",
       "    }\n",
       "\n",
       "    .dataframe thead th {\n",
       "        text-align: right;\n",
       "    }\n",
       "</style>\n",
       "<table border=\"1\" class=\"dataframe\">\n",
       "  <thead>\n",
       "    <tr style=\"text-align: right;\">\n",
       "      <th></th>\n",
       "      <th>Rank</th>\n",
       "      <th>Country/Territory</th>\n",
       "      <th>Int$</th>\n",
       "      <th>Year</th>\n",
       "    </tr>\n",
       "  </thead>\n",
       "  <tbody>\n",
       "    <tr>\n",
       "      <th>0</th>\n",
       "      <td>1</td>\n",
       "      <td>Liechtenstein</td>\n",
       "      <td>139100.0</td>\n",
       "      <td>2009 est.</td>\n",
       "    </tr>\n",
       "    <tr>\n",
       "      <th>1</th>\n",
       "      <td>2</td>\n",
       "      <td>Qatar</td>\n",
       "      <td>124900.0</td>\n",
       "      <td>2017 est.</td>\n",
       "    </tr>\n",
       "    <tr>\n",
       "      <th>2</th>\n",
       "      <td>3</td>\n",
       "      <td>Monaco</td>\n",
       "      <td>115700.0</td>\n",
       "      <td>2015 est.</td>\n",
       "    </tr>\n",
       "    <tr>\n",
       "      <th>3</th>\n",
       "      <td>—</td>\n",
       "      <td>Macau</td>\n",
       "      <td>114400.0</td>\n",
       "      <td>2017 est.</td>\n",
       "    </tr>\n",
       "    <tr>\n",
       "      <th>4</th>\n",
       "      <td>4</td>\n",
       "      <td>Luxembourg</td>\n",
       "      <td>109100.0</td>\n",
       "      <td>2017 est.</td>\n",
       "    </tr>\n",
       "  </tbody>\n",
       "</table>\n",
       "</div>"
      ],
      "text/plain": [
       "  Rank Country/Territory      Int$       Year\n",
       "0    1     Liechtenstein  139100.0  2009 est.\n",
       "1    2             Qatar  124900.0  2017 est.\n",
       "2    3            Monaco  115700.0  2015 est.\n",
       "3    —             Macau  114400.0  2017 est.\n",
       "4    4        Luxembourg  109100.0  2017 est."
      ]
     },
     "execution_count": 57,
     "metadata": {},
     "output_type": "execute_result"
    }
   ],
   "source": [
    "# selecciones la tercera:\n",
    "gdpTables[2].head()"
   ]
  },
  {
   "cell_type": "code",
   "execution_count": 58,
   "metadata": {},
   "outputs": [],
   "source": [
    "# quedemosnos con la segunda y tercera fila\n",
    "DFgdp=gdpTables[2].iloc[:,1:3]"
   ]
  },
  {
   "cell_type": "code",
   "execution_count": 59,
   "metadata": {},
   "outputs": [
    {
     "data": {
      "text/plain": [
       "Country/Territory     object\n",
       "Int$                 float64\n",
       "dtype: object"
      ]
     },
     "execution_count": 59,
     "metadata": {},
     "output_type": "execute_result"
    }
   ],
   "source": [
    "# confirmemos que los tipos son adecuados:\n",
    "DFgdp.dtypes"
   ]
  },
  {
   "cell_type": "code",
   "execution_count": 60,
   "metadata": {},
   "outputs": [
    {
     "data": {
      "text/html": [
       "<div>\n",
       "<style scoped>\n",
       "    .dataframe tbody tr th:only-of-type {\n",
       "        vertical-align: middle;\n",
       "    }\n",
       "\n",
       "    .dataframe tbody tr th {\n",
       "        vertical-align: top;\n",
       "    }\n",
       "\n",
       "    .dataframe thead th {\n",
       "        text-align: right;\n",
       "    }\n",
       "</style>\n",
       "<table border=\"1\" class=\"dataframe\">\n",
       "  <thead>\n",
       "    <tr style=\"text-align: right;\">\n",
       "      <th></th>\n",
       "      <th>Country</th>\n",
       "      <th>gdp</th>\n",
       "    </tr>\n",
       "  </thead>\n",
       "  <tbody>\n",
       "    <tr>\n",
       "      <th>0</th>\n",
       "      <td>Liechtenstein</td>\n",
       "      <td>139100.0</td>\n",
       "    </tr>\n",
       "    <tr>\n",
       "      <th>1</th>\n",
       "      <td>Qatar</td>\n",
       "      <td>124900.0</td>\n",
       "    </tr>\n",
       "    <tr>\n",
       "      <th>2</th>\n",
       "      <td>Monaco</td>\n",
       "      <td>115700.0</td>\n",
       "    </tr>\n",
       "    <tr>\n",
       "      <th>3</th>\n",
       "      <td>Macau</td>\n",
       "      <td>114400.0</td>\n",
       "    </tr>\n",
       "    <tr>\n",
       "      <th>4</th>\n",
       "      <td>Luxembourg</td>\n",
       "      <td>109100.0</td>\n",
       "    </tr>\n",
       "  </tbody>\n",
       "</table>\n",
       "</div>"
      ],
      "text/plain": [
       "         Country       gdp\n",
       "0  Liechtenstein  139100.0\n",
       "1          Qatar  124900.0\n",
       "2         Monaco  115700.0\n",
       "3          Macau  114400.0\n",
       "4     Luxembourg  109100.0"
      ]
     },
     "execution_count": 60,
     "metadata": {},
     "output_type": "execute_result"
    }
   ],
   "source": [
    "# cambiemos esos nombres:\n",
    "DFgdp.columns=[\"Country\",\"gdp\"]\n",
    "DFgdp.head()"
   ]
  },
  {
   "cell_type": "code",
   "execution_count": 61,
   "metadata": {},
   "outputs": [
    {
     "data": {
      "text/plain": [
       "((207, 5), (229, 2))"
      ]
     },
     "execution_count": 61,
     "metadata": {},
     "output_type": "execute_result"
    }
   ],
   "source": [
    "#comparemos tamaños:\n",
    "\n",
    "DF.shape, DFgdp.shape"
   ]
  },
  {
   "cell_type": "code",
   "execution_count": 62,
   "metadata": {},
   "outputs": [
    {
     "data": {
      "text/plain": [
       "(188, 6)"
      ]
     },
     "execution_count": 62,
     "metadata": {},
     "output_type": "execute_result"
    }
   ],
   "source": [
    "# consultemos que saldrá al hacer el merge:\n",
    "\n",
    "DFgdp.merge(DF,on=\"Country\").shape"
   ]
  },
  {
   "cell_type": "code",
   "execution_count": 63,
   "metadata": {},
   "outputs": [],
   "source": [
    "DFtotal=DFgdp.merge(DF,on=\"Country\")"
   ]
  },
  {
   "cell_type": "code",
   "execution_count": 64,
   "metadata": {},
   "outputs": [
    {
     "data": {
      "text/html": [
       "<div>\n",
       "<style scoped>\n",
       "    .dataframe tbody tr th:only-of-type {\n",
       "        vertical-align: middle;\n",
       "    }\n",
       "\n",
       "    .dataframe tbody tr th {\n",
       "        vertical-align: top;\n",
       "    }\n",
       "\n",
       "    .dataframe thead th {\n",
       "        text-align: right;\n",
       "    }\n",
       "</style>\n",
       "<table border=\"1\" class=\"dataframe\">\n",
       "  <thead>\n",
       "    <tr style=\"text-align: right;\">\n",
       "      <th></th>\n",
       "      <th>Country</th>\n",
       "      <th>gdp</th>\n",
       "      <th>WorldFreedom</th>\n",
       "      <th>EconomicFreedom</th>\n",
       "      <th>PressFreedom</th>\n",
       "      <th>Democracy</th>\n",
       "    </tr>\n",
       "  </thead>\n",
       "  <tbody>\n",
       "    <tr>\n",
       "      <th>0</th>\n",
       "      <td>Liechtenstein</td>\n",
       "      <td>139100.0</td>\n",
       "      <td>5.0</td>\n",
       "      <td>3.0</td>\n",
       "      <td>4.0</td>\n",
       "      <td>4.0</td>\n",
       "    </tr>\n",
       "    <tr>\n",
       "      <th>1</th>\n",
       "      <td>Qatar</td>\n",
       "      <td>124900.0</td>\n",
       "      <td>1.0</td>\n",
       "      <td>4.0</td>\n",
       "      <td>2.0</td>\n",
       "      <td>1.0</td>\n",
       "    </tr>\n",
       "    <tr>\n",
       "      <th>2</th>\n",
       "      <td>Monaco</td>\n",
       "      <td>115700.0</td>\n",
       "      <td>5.0</td>\n",
       "      <td>3.0</td>\n",
       "      <td>4.0</td>\n",
       "      <td>4.0</td>\n",
       "    </tr>\n",
       "    <tr>\n",
       "      <th>3</th>\n",
       "      <td>Macau</td>\n",
       "      <td>114400.0</td>\n",
       "      <td>NaN</td>\n",
       "      <td>4.0</td>\n",
       "      <td>NaN</td>\n",
       "      <td>NaN</td>\n",
       "    </tr>\n",
       "    <tr>\n",
       "      <th>4</th>\n",
       "      <td>Luxembourg</td>\n",
       "      <td>109100.0</td>\n",
       "      <td>5.0</td>\n",
       "      <td>4.0</td>\n",
       "      <td>5.0</td>\n",
       "      <td>5.0</td>\n",
       "    </tr>\n",
       "  </tbody>\n",
       "</table>\n",
       "</div>"
      ],
      "text/plain": [
       "         Country       gdp  WorldFreedom  EconomicFreedom  PressFreedom  \\\n",
       "0  Liechtenstein  139100.0           5.0              3.0           4.0   \n",
       "1          Qatar  124900.0           1.0              4.0           2.0   \n",
       "2         Monaco  115700.0           5.0              3.0           4.0   \n",
       "3          Macau  114400.0           NaN              4.0           NaN   \n",
       "4     Luxembourg  109100.0           5.0              4.0           5.0   \n",
       "\n",
       "   Democracy  \n",
       "0        4.0  \n",
       "1        1.0  \n",
       "2        4.0  \n",
       "3        NaN  \n",
       "4        5.0  "
      ]
     },
     "execution_count": 64,
     "metadata": {},
     "output_type": "execute_result"
    }
   ],
   "source": [
    "# como quedó:\n",
    "\n",
    "DFtotal.head()"
   ]
  },
  {
   "cell_type": "code",
   "execution_count": 65,
   "metadata": {},
   "outputs": [],
   "source": [
    "# quedemonos con las filas con datos completos, ya no imputemos:\n",
    "\n",
    "DFtotal.dropna(inplace=True)"
   ]
  },
  {
   "cell_type": "markdown",
   "metadata": {},
   "source": [
    "**Guardando archivo**\n",
    "\n",
    "A esta altura es bueno guardar el archivo, pues ya está listo:"
   ]
  },
  {
   "cell_type": "code",
   "execution_count": 66,
   "metadata": {},
   "outputs": [],
   "source": [
    "DFtotal.to_csv(\"indexes.csv\",index=None)"
   ]
  },
  {
   "cell_type": "code",
   "execution_count": null,
   "metadata": {},
   "outputs": [],
   "source": []
  },
  {
   "cell_type": "code",
   "execution_count": null,
   "metadata": {},
   "outputs": [],
   "source": [
    "compressedMap= 'https://github.com/EvansDataScience/data/raw/master/WAzips.zip'\n",
    "\n",
    "import shapefile"
   ]
  },
  {
   "cell_type": "code",
   "execution_count": null,
   "metadata": {},
   "outputs": [],
   "source": [
    "compressedMap+\"/SAEP_ZIP_Code_Tabulation_Areas.shp\""
   ]
  },
  {
   "cell_type": "code",
   "execution_count": null,
   "metadata": {},
   "outputs": [],
   "source": [
    "import shapefile\n",
    "\n",
    "myshp = open(\"https://github.com/EvansDataScience/data/raw/master/WAzips/SAEP_ZIP_Code_Tabulation_Areas.shp\", \"rb\")\n",
    "mydbf = open(\"https://github.com/EvansDataScience/data/raw/master/WAzips/SAEP_ZIP_Code_Tabulation_Areas.dbf\", \"rb\")\n",
    "myshx = open(\"https://github.com/EvansDataScience/data/raw/master/WAzips/SAEP_ZIP_Code_Tabulation_Areas.shx\", \"rb\")\n",
    "myprj = open(\"https://github.com/EvansDataScience/data/raw/master/WAzips/SAEP_ZIP_Code_Tabulation_Areas.prj\", \"rb\")\n",
    "r = shapefile.Reader(shp=myshp, dbf=mydbf,prj=myprj,shx=myshx)"
   ]
  },
  {
   "cell_type": "code",
   "execution_count": null,
   "metadata": {},
   "outputs": [],
   "source": [
    "import requests\n",
    "import zipfile\n",
    "import io"
   ]
  },
  {
   "cell_type": "code",
   "execution_count": null,
   "metadata": {},
   "outputs": [],
   "source": [
    "url = 'https://github.com/EvansDataScience/data/raw/master/WAzips.zip'\n",
    "print('Downloading shapefile...')\n",
    "r = requests.get(url)\n",
    "z = zipfile.ZipFile(io.BytesIO(r.content))\n",
    "print(\"Done\")\n",
    "filenames = [y for y in sorted(z.namelist()) for ending in ['dbf', 'prj', 'shp', 'shx'] if y.endswith(ending)] \n",
    "print(filenames)"
   ]
  },
  {
   "cell_type": "code",
   "execution_count": null,
   "metadata": {},
   "outputs": [],
   "source": [
    "z.namelist()"
   ]
  },
  {
   "cell_type": "code",
   "execution_count": null,
   "metadata": {},
   "outputs": [],
   "source": [
    "url = 'https://github.com/EvansDataScience/data/raw/master/WAzips.zip'\n",
    "print('Downloading shapefile...')\n",
    "r = requests.get(url)\n",
    "z = zipfile.ZipFile(io.BytesIO(r.content))\n",
    "\n",
    "with zipfile.ZipFile(r.content) as myzip:\n",
    "    with myzip.open('SAEP_ZIP_Code_Tabulation_Areas.shp') as myfile:\n",
    "        print(myfile.read())"
   ]
  },
  {
   "cell_type": "code",
   "execution_count": null,
   "metadata": {},
   "outputs": [],
   "source": [
    "mydbf, myprj, myshp, myshx = [filename for filename in filenames]\n",
    "usa = shapefile.Reader(shp=myshp, dbf=mydbf,prj=myprj,shx=myshx)\n",
    "print(\"Shape of the dataframe: {}\".format(usa.shape))\n",
    "print(\"Projection of dataframe: {}\".format(usa.crs))\n",
    "usa.tail() #last 5 records in dataframe"
   ]
  },
  {
   "cell_type": "markdown",
   "metadata": {},
   "source": [
    "____\n",
    "\n",
    "* [Ir a inicio](#beginning)\n",
    "* [Menú Principal](https://reproducibilidad.github.io/tallerPeru/)"
   ]
  },
  {
   "cell_type": "markdown",
   "metadata": {},
   "source": [
    "_____\n",
    "\n",
    "**AUSPICIO**: \n",
    "\n",
    "El desarrollo de estos contenidos ha sido posible gracias al grant del Berkeley Initiative for Transparency in the Social Sciences (BITSS) at the Center for Effective Global Action (CEGA) at the University of California, Berkeley\n",
    "\n",
    "\n",
    "<center>\n",
    "<img src=\"https://github.com/MAGALLANESJoseManuel/BITSS_ToolsWorkshop/raw/master/LogoBitss.jpg\" style=\"width: 300px;\"/>\n",
    "</center>\n",
    "\n",
    "**RECONOCIMIENTO**\n",
    "\n",
    "<!--\n",
    "EL Dr. Magallanes agradece a la Pontificia Universidad Católica del Perú, por su apoyo en la elaboración de este trabajo.\n",
    "\n",
    "<center>\n",
    "<img src=\"https://github.com/MAGALLANESJoseManuel/BITSS_ToolsWorkshop/raw/master/LogoPUCP.jpg\" style=\"width: 200px;\"/>\n",
    "</center>\n",
    "-->\n",
    "\n",
    "El autor reconoce el apoyo que el eScience Institute de la Universidad de Washington le ha brindado desde el 2015 para desarrollar su investigación en Ciencia de Datos.\n",
    "\n",
    "<center>\n",
    "<img src=\"https://github.com/MAGALLANESJoseManuel/BITSS_ToolsWorkshop/raw/master/LogoES.png\" style=\"width: 300px;\"/>\n",
    "</center>\n",
    "\n",
    "<br>\n",
    "<br>"
   ]
  }
 ],
 "metadata": {
  "anaconda-cloud": {},
  "kernelspec": {
   "display_name": "Python 3",
   "language": "python",
   "name": "python3"
  },
  "language_info": {
   "codemirror_mode": {
    "name": "ipython",
    "version": 3
   },
   "file_extension": ".py",
   "mimetype": "text/x-python",
   "name": "python",
   "nbconvert_exporter": "python",
   "pygments_lexer": "ipython3",
   "version": "3.6.5"
  }
 },
 "nbformat": 4,
 "nbformat_minor": 1
}
